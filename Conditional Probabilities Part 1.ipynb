{
 "cells": [
  {
   "cell_type": "code",
   "execution_count": 11,
   "id": "5f06a2d0",
   "metadata": {},
   "outputs": [
    {
     "name": "stderr",
     "output_type": "stream",
     "text": [
      "Warning message in set.seed(1, sample.kind = \"Rounding\"):\n",
      "\"non-uniform 'Rounding' sampler used\""
     ]
    },
    {
     "data": {
      "text/html": [
       "0.114509"
      ],
      "text/latex": [
       "0.114509"
      ],
      "text/markdown": [
       "0.114509"
      ],
      "text/plain": [
       "[1] 0.114509"
      ]
     },
     "metadata": {},
     "output_type": "display_data"
    },
    {
     "data": {
      "text/html": [
       "0.0034613564677676"
      ],
      "text/latex": [
       "0.0034613564677676"
      ],
      "text/markdown": [
       "0.0034613564677676"
      ],
      "text/plain": [
       "[1] 0.003461356"
      ]
     },
     "metadata": {},
     "output_type": "display_data"
    },
    {
     "data": {
      "text/html": [
       "0.147176204490477"
      ],
      "text/latex": [
       "0.147176204490477"
      ],
      "text/markdown": [
       "0.147176204490477"
      ],
      "text/plain": [
       "[1] 0.1471762"
      ]
     },
     "metadata": {},
     "output_type": "display_data"
    },
    {
     "data": {
      "text/html": [
       "7.35881022452384"
      ],
      "text/latex": [
       "7.35881022452384"
      ],
      "text/markdown": [
       "7.35881022452384"
      ],
      "text/plain": [
       "[1] 7.35881"
      ]
     },
     "metadata": {},
     "output_type": "display_data"
    }
   ],
   "source": [
    "# We have a hypothetical population of 1 million individuals with the following conditional probabilities as described below:\n",
    "# The test is positive 85% of the time when tested on a patient with the disease (high sensitivity) \n",
    "# The test is negative 90% of the time when tested on a healthy patient (high specificity) \n",
    "# The disease is prevalent in about 2% of the community \n",
    "\n",
    "# set.seed(1) # if using R 3.5 or earlier\n",
    "set.seed(1, sample.kind = \"Rounding\") # if using R 3.6 or later\n",
    "disease <- sample(c(0,1), size=1e6, replace=TRUE, prob=c(0.98,0.02))\n",
    "test <- rep(NA, 1e6)\n",
    "test[disease==0] <- sample(c(0,1), size=sum(disease==0), replace=TRUE, prob=c(0.90,0.10))\n",
    "test[disease==1] <- sample(c(0,1), size=sum(disease==1), replace=TRUE, prob=c(0.15, 0.85))\n",
    "\n",
    "#What is the probability that a test is positive?\n",
    "mean(test)\n",
    "\n",
    "#What is the probability that an individual has the disease if the test is negative?\n",
    "mean(disease[test==0])\n",
    "\n",
    "#What is the probability that you have the disease if the test is positive?\n",
    "mean(disease[test==1])\n",
    "\n",
    "# Compare the prevalence of disease in people who test positive to the overall prevalence of disease.\n",
    "# If a patient's test is positive, by how many times does that increase their risk of having the disease?\n",
    "# First calculate the probability of having the disease given a positive test, then divide by the \n",
    "# probability of having the disease.\n",
    "mean(disease[test==1]==1)/0.02"
   ]
  },
  {
   "cell_type": "code",
   "execution_count": 3,
   "id": "1d0389b6",
   "metadata": {},
   "outputs": [
    {
     "data": {
      "text/plain": [
       "R version 3.6.1 (2019-07-05)\n",
       "Platform: x86_64-w64-mingw32/x64 (64-bit)\n",
       "Running under: Windows 10 x64 (build 19041)\n",
       "\n",
       "Matrix products: default\n",
       "\n",
       "Random number generation:\n",
       " RNG:     Mersenne-Twister \n",
       " Normal:  Inversion \n",
       " Sample:  Rounding \n",
       " \n",
       "locale:\n",
       "[1] LC_COLLATE=English_United Kingdom.1252 \n",
       "[2] LC_CTYPE=English_United Kingdom.1252   \n",
       "[3] LC_MONETARY=English_United Kingdom.1252\n",
       "[4] LC_NUMERIC=C                           \n",
       "[5] LC_TIME=English_United Kingdom.1252    \n",
       "\n",
       "attached base packages:\n",
       "[1] stats     graphics  grDevices utils     datasets  methods   base     \n",
       "\n",
       "loaded via a namespace (and not attached):\n",
       " [1] getPass_0.2-2   compiler_3.6.1  IRdisplay_0.7.0 pbdZMQ_0.3-3   \n",
       " [5] tools_3.6.1     htmltools_0.3.6 base64enc_0.1-3 crayon_1.3.4   \n",
       " [9] Rcpp_1.0.1      uuid_0.1-2      IRkernel_0.8.15 jsonlite_1.6   \n",
       "[13] digest_0.6.18   repr_0.19.2     evaluate_0.13  "
      ]
     },
     "metadata": {},
     "output_type": "display_data"
    }
   ],
   "source": [
    "# R version\n",
    "sessionInfo()"
   ]
  },
  {
   "cell_type": "code",
   "execution_count": null,
   "id": "41d042ab",
   "metadata": {},
   "outputs": [],
   "source": []
  }
 ],
 "metadata": {
  "kernelspec": {
   "display_name": "R",
   "language": "R",
   "name": "ir"
  },
  "language_info": {
   "codemirror_mode": "r",
   "file_extension": ".r",
   "mimetype": "text/x-r-source",
   "name": "R",
   "pygments_lexer": "r",
   "version": "3.6.1"
  }
 },
 "nbformat": 4,
 "nbformat_minor": 5
}
