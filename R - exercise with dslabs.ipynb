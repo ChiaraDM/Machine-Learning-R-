{
 "cells": [
  {
   "cell_type": "code",
   "execution_count": 1,
   "id": "90979a43",
   "metadata": {},
   "outputs": [
    {
     "name": "stdout",
     "output_type": "stream",
     "text": [
      "package 'dslabs' successfully unpacked and MD5 sums checked\n",
      "\n",
      "The downloaded binary packages are in\n",
      "\tC:\\Users\\asus\\AppData\\Local\\Temp\\RtmpkJUepj\\downloaded_packages\n"
     ]
    },
    {
     "name": "stderr",
     "output_type": "stream",
     "text": [
      "Warning message:\n",
      "\"package 'dslabs' was built under R version 3.6.3\"\n"
     ]
    }
   ],
   "source": [
    "install.packages(\"dslabs\")\n",
    "library(dslabs)"
   ]
  },
  {
   "cell_type": "code",
   "execution_count": 3,
   "id": "dd6ca7ce",
   "metadata": {},
   "outputs": [
    {
     "data": {
      "text/html": [
       "784"
      ],
      "text/latex": [
       "784"
      ],
      "text/markdown": [
       "784"
      ],
      "text/plain": [
       "[1] 784"
      ]
     },
     "metadata": {},
     "output_type": "display_data"
    }
   ],
   "source": [
    "mnist <- read_mnist()\n",
    "ncol(mnist$train$images)"
   ]
  },
  {
   "cell_type": "code",
   "execution_count": 2,
   "id": "a06dea63",
   "metadata": {},
   "outputs": [],
   "source": [
    "data(heights)"
   ]
  },
  {
   "cell_type": "code",
   "execution_count": 4,
   "id": "eb1bce3f",
   "metadata": {},
   "outputs": [
    {
     "ename": "ERROR",
     "evalue": "Error in map_dbl(cutoff, function(x) {: could not find function \"map_dbl\"\n",
     "output_type": "error",
     "traceback": [
      "Error in map_dbl(cutoff, function(x) {: could not find function \"map_dbl\"\nTraceback:\n"
     ]
    }
   ],
   "source": [
    "# maximize F-score\n",
    "cutoff <- seq(61, 70)\n",
    "F_1 <- map_dbl(cutoff, function(x){\n",
    "  y_hat <- ifelse(train_set$height > x, \"Male\", \"Female\") %>% \n",
    "    factor(levels = levels(test_set$sex))\n",
    "  F_meas(data = y_hat, reference = factor(train_set$sex))\n",
    "})\n",
    "\n",
    "data.frame(cutoff, F_1) %>% \n",
    "  ggplot(aes(cutoff, F_1)) + \n",
    "  geom_point() + \n",
    "  geom_line()\n",
    "\n",
    "max(F_1)\n",
    "\n",
    "best_cutoff <- cutoff[which.max(F_1)]\n",
    "best_cutoff\n",
    "\n",
    "y_hat <- ifelse(test_set$height > best_cutoff, \"Male\", \"Female\") %>% \n",
    "  factor(levels = levels(test_set$sex))\n",
    "sensitivity(data = y_hat, reference = test_set$sex)\n",
    "specificity(data = y_hat, reference = test_set$sex)"
   ]
  },
  {
   "cell_type": "code",
   "execution_count": 5,
   "id": "b76fcbff",
   "metadata": {},
   "outputs": [
    {
     "ename": "ERROR",
     "evalue": "Error in eval(expr, envir, enclos): object 'test_index' not found\n",
     "output_type": "error",
     "traceback": [
      "Error in eval(expr, envir, enclos): object 'test_index' not found\nTraceback:\n"
     ]
    }
   ],
   "source": [
    "p <- 0.9\n",
    "n <- length(test_index)\n",
    "y_hat <- sample(c(\"Male\", \"Female\"), n, replace = TRUE, prob=c(p, 1-p)) %>% \n",
    "  factor(levels = levels(test_set$sex))\n",
    "mean(y_hat == test_set$sex)\n",
    "\n",
    "# ROC curve\n",
    "probs <- seq(0, 1, length.out = 10)\n",
    "guessing <- map_df(probs, function(p){\n",
    "  y_hat <- \n",
    "    sample(c(\"Male\", \"Female\"), n, replace = TRUE, prob=c(p, 1-p)) %>% \n",
    "    factor(levels = c(\"Female\", \"Male\"))\n",
    "  list(method = \"Guessing\",\n",
    "       FPR = 1 - specificity(y_hat, test_set$sex),\n",
    "       TPR = sensitivity(y_hat, test_set$sex))\n",
    "})\n",
    "guessing %>% qplot(FPR, TPR, data =., xlab = \"1 - Specificity\", ylab = \"Sensitivity\")\n",
    "\n",
    "cutoffs <- c(50, seq(60, 75), 80)\n",
    "height_cutoff <- map_df(cutoffs, function(x){\n",
    "  y_hat <- ifelse(test_set$height > x, \"Male\", \"Female\") %>% \n",
    "    factor(levels = c(\"Female\", \"Male\"))\n",
    "   list(method = \"Height cutoff\",\n",
    "        FPR = 1-specificity(y_hat, test_set$sex),\n",
    "        TPR = sensitivity(y_hat, test_set$sex))\n",
    "})\n",
    "\n",
    "# plot both curves together\n",
    "bind_rows(guessing, height_cutoff) %>%\n",
    "  ggplot(aes(FPR, TPR, color = method)) +\n",
    "  geom_line() +\n",
    "  geom_point() +\n",
    "  xlab(\"1 - Specificity\") +\n",
    "  ylab(\"Sensitivity\")\n",
    "\n",
    "library(ggrepel)\n",
    "map_df(cutoffs, function(x){\n",
    "  y_hat <- ifelse(test_set$height > x, \"Male\", \"Female\") %>% \n",
    "    factor(levels = c(\"Female\", \"Male\"))\n",
    "   list(method = \"Height cutoff\",\n",
    "        cutoff = x, \n",
    "        FPR = 1-specificity(y_hat, test_set$sex),\n",
    "        TPR = sensitivity(y_hat, test_set$sex))\n",
    "}) %>%\n",
    "  ggplot(aes(FPR, TPR, label = cutoff)) +\n",
    "  geom_line() +\n",
    "  geom_point() +\n",
    "  geom_text_repel(nudge_x = 0.01, nudge_y = -0.01)\n",
    "\n",
    "# plot precision against recall\n",
    "guessing <- map_df(probs, function(p){\n",
    "  y_hat <- sample(c(\"Male\", \"Female\"), length(test_index), \n",
    "                  replace = TRUE, prob=c(p, 1-p)) %>% \n",
    "    factor(levels = c(\"Female\", \"Male\"))\n",
    "  list(method = \"Guess\",\n",
    "    recall = sensitivity(y_hat, test_set$sex),\n",
    "    precision = precision(y_hat, test_set$sex))\n",
    "})\n",
    "\n",
    "height_cutoff <- map_df(cutoffs, function(x){\n",
    "  y_hat <- ifelse(test_set$height > x, \"Male\", \"Female\") %>% \n",
    "    factor(levels = c(\"Female\", \"Male\"))\n",
    "  list(method = \"Height cutoff\",\n",
    "       recall = sensitivity(y_hat, test_set$sex),\n",
    "    precision = precision(y_hat, test_set$sex))\n",
    "})\n",
    "\n",
    "bind_rows(guessing, height_cutoff) %>%\n",
    "  ggplot(aes(recall, precision, color = method)) +\n",
    "  geom_line() +\n",
    "  geom_point()\n",
    "guessing <- map_df(probs, function(p){\n",
    "  y_hat <- sample(c(\"Male\", \"Female\"), length(test_index), replace = TRUE, \n",
    "                  prob=c(p, 1-p)) %>% \n",
    "    factor(levels = c(\"Male\", \"Female\"))\n",
    "  list(method = \"Guess\",\n",
    "    recall = sensitivity(y_hat, relevel(test_set$sex, \"Male\", \"Female\")),\n",
    "    precision = precision(y_hat, relevel(test_set$sex, \"Male\", \"Female\")))\n",
    "})\n",
    "\n",
    "height_cutoff <- map_df(cutoffs, function(x){\n",
    "  y_hat <- ifelse(test_set$height > x, \"Male\", \"Female\") %>% \n",
    "    factor(levels = c(\"Male\", \"Female\"))\n",
    "  list(method = \"Height cutoff\",\n",
    "       recall = sensitivity(y_hat, relevel(test_set$sex, \"Male\", \"Female\")),\n",
    "    precision = precision(y_hat, relevel(test_set$sex, \"Male\", \"Female\")))\n",
    "})\n",
    "bind_rows(guessing, height_cutoff) %>%\n",
    "  ggplot(aes(recall, precision, color = method)) +\n",
    "  geom_line() +\n",
    "  geom_point()"
   ]
  },
  {
   "cell_type": "code",
   "execution_count": 3,
   "id": "6ae2a2fd",
   "metadata": {},
   "outputs": [
    {
     "name": "stdout",
     "output_type": "stream",
     "text": [
      "\n",
      "  There is a binary version available but the source version is later:\n",
      "      binary source needs_compilation\n",
      "dplyr  1.0.6  1.0.7              TRUE\n",
      "\n",
      "  Binaries will be installed\n",
      "package 'dplyr' successfully unpacked and MD5 sums checked\n",
      "\n",
      "The downloaded binary packages are in\n",
      "\tC:\\Users\\asus\\AppData\\Local\\Temp\\RtmpkJUepj\\downloaded_packages\n"
     ]
    },
    {
     "name": "stderr",
     "output_type": "stream",
     "text": [
      "Warning message:\n",
      "\"package 'dplyr' was built under R version 3.6.3\"\n",
      "\n",
      "Attaching package: 'dplyr'\n",
      "\n",
      "\n",
      "The following objects are masked from 'package:stats':\n",
      "\n",
      "    filter, lag\n",
      "\n",
      "\n",
      "The following objects are masked from 'package:base':\n",
      "\n",
      "    intersect, setdiff, setequal, union\n",
      "\n",
      "\n",
      "\n",
      "Attaching package: 'lubridate'\n",
      "\n",
      "\n",
      "The following object is masked from 'package:base':\n",
      "\n",
      "    date\n",
      "\n",
      "\n"
     ]
    }
   ],
   "source": [
    "# The reported_heights and heights datasets were collected from three classes taught in the Departments of Computer Science\n",
    "# and Biostatistics, as well as remotely through the Extension School. \n",
    "# The Biostatistics class was taught in 2016 along with an online version offered by the Extension School. \n",
    "# On 2016-01-25 at 8:15 AM, during one of the lectures, the instructors asked student to fill in the sex and height\n",
    "# questionnaire that populated the reported_heights dataset. \n",
    "# The online students filled out the survey during the next few days, after the lecture was posted online. \n",
    "# We can use this insight to define a variable which we will call type, to denote the type of student, inclass or online.\n",
    "\n",
    "\n",
    "library(dslabs)\n",
    "install.packages(\"dplyr\")\n",
    "library(dplyr)\n",
    "library(lubridate)\n",
    "data(reported_heights)\n",
    "\n",
    "dat <- mutate(reported_heights, date_time = ymd_hms(time_stamp)) %>%\n",
    "  filter(date_time >= make_date(2016, 01, 25) & date_time < make_date(2016, 02, 1)) %>%\n",
    "  mutate(type = ifelse(day(date_time) == 25 & hour(date_time) == 8 & between(minute(date_time), 15, 30), \"inclass\",\"online\")) %>%\n",
    "  select(sex, type)\n",
    "\n",
    "y <- factor(dat$sex, c(\"Female\", \"Male\"))\n",
    "x <- dat$type\n"
   ]
  },
  {
   "cell_type": "code",
   "execution_count": 4,
   "id": "d1cef42d",
   "metadata": {},
   "outputs": [
    {
     "data": {
      "text/html": [
       "<table class=\"dataframe\">\n",
       "<caption>A tibble: 2 × 2</caption>\n",
       "<thead>\n",
       "\t<tr><th scope=col>type</th><th scope=col>prop_female</th></tr>\n",
       "\t<tr><th scope=col>&lt;chr&gt;</th><th scope=col>&lt;dbl&gt;</th></tr>\n",
       "</thead>\n",
       "<tbody>\n",
       "\t<tr><td>inclass</td><td>0.6666667</td></tr>\n",
       "\t<tr><td>online </td><td>0.3783784</td></tr>\n",
       "</tbody>\n",
       "</table>\n"
      ],
      "text/latex": [
       "A tibble: 2 × 2\n",
       "\\begin{tabular}{ll}\n",
       " type & prop\\_female\\\\\n",
       " <chr> & <dbl>\\\\\n",
       "\\hline\n",
       "\t inclass & 0.6666667\\\\\n",
       "\t online  & 0.3783784\\\\\n",
       "\\end{tabular}\n"
      ],
      "text/markdown": [
       "\n",
       "A tibble: 2 × 2\n",
       "\n",
       "| type &lt;chr&gt; | prop_female &lt;dbl&gt; |\n",
       "|---|---|\n",
       "| inclass | 0.6666667 |\n",
       "| online  | 0.3783784 |\n",
       "\n"
      ],
      "text/plain": [
       "  type    prop_female\n",
       "1 inclass 0.6666667  \n",
       "2 online  0.3783784  "
      ]
     },
     "metadata": {},
     "output_type": "display_data"
    }
   ],
   "source": [
    "# Q1\n",
    "# The type column of dat indicates whether students took classes in person (\"inclass\") or online (\"online\"). \n",
    "# What proportion of the inclass group is female? What proportion of the online group is female?\n",
    "\n",
    "dat %>% group_by(type) %>% summarize(prop_female = mean(sex == \"Female\"))"
   ]
  },
  {
   "cell_type": "code",
   "execution_count": 5,
   "id": "f0cca207",
   "metadata": {},
   "outputs": [
    {
     "name": "stdout",
     "output_type": "stream",
     "text": [
      "package 'purrr' successfully unpacked and MD5 sums checked\n"
     ]
    },
    {
     "name": "stderr",
     "output_type": "stream",
     "text": [
      "Warning message:\n",
      "\"cannot remove prior installation of package 'purrr'\"\n",
      "Warning message in file.copy(savedcopy, lib, recursive = TRUE):\n",
      "\"problem copying C:\\Users\\asus\\anaconda3\\envs\\r-tutorial\\Lib\\R\\library\\00LOCK\\purrr\\libs\\x64\\purrr.dll to C:\\Users\\asus\\anaconda3\\envs\\r-tutorial\\Lib\\R\\library\\purrr\\libs\\x64\\purrr.dll: Permission denied\"\n",
      "Warning message:\n",
      "\"restored 'purrr'\"\n"
     ]
    },
    {
     "name": "stdout",
     "output_type": "stream",
     "text": [
      "\n",
      "The downloaded binary packages are in\n",
      "\tC:\\Users\\asus\\AppData\\Local\\Temp\\RtmpkJUepj\\downloaded_packages\n"
     ]
    },
    {
     "data": {
      "text/html": [
       "0.633333333333333"
      ],
      "text/latex": [
       "0.633333333333333"
      ],
      "text/markdown": [
       "0.633333333333333"
      ],
      "text/plain": [
       "[1] 0.6333333"
      ]
     },
     "metadata": {},
     "output_type": "display_data"
    }
   ],
   "source": [
    "# Q2\n",
    "# In the course videos, height cutoffs were used to predict sex. Instead of height, use the type variable to predict sex. \n",
    "# Assume that for each class type the students are either all male or all female, based on the most prevalent sex in each \n",
    "# class type you calculated in Q1. Report the accuracy of your prediction of sex based on type. \n",
    "# You do not need to split the data into training and test sets.\n",
    "\n",
    "install.packages(\"purrr\")\n",
    "library(purrr)\n",
    "cutoff <- seq(61, 70)\n",
    "#F_1 <- map_dbl(cutoff, function(x){\n",
    "#    y_hat <- ifelse(train_set$type > x, \"Male\", \"Female\") %>%\n",
    "#    factor(levels = levels(test_set$sex))\n",
    "#})\n",
    "\n",
    "y_hat <- ifelse(x == \"online\", \"Male\", \"Female\") %>% \n",
    "      factor(levels = levels(y))\n",
    "mean(y_hat==y)"
   ]
  },
  {
   "cell_type": "code",
   "execution_count": 6,
   "id": "c1f0aa19",
   "metadata": {},
   "outputs": [
    {
     "data": {
      "text/plain": [
       "         actual\n",
       "predicted Female Male\n",
       "   Female     26   13\n",
       "   Male       42   69"
      ]
     },
     "metadata": {},
     "output_type": "display_data"
    },
    {
     "data": {
      "text/plain": [
       "        y\n",
       "y_hat    Female Male\n",
       "  Female     26   13\n",
       "  Male       42   69"
      ]
     },
     "metadata": {},
     "output_type": "display_data"
    }
   ],
   "source": [
    "# Q3\n",
    "# Write a line of code using the table() function to show the confusion matrix between y_hat and y. \n",
    "# Use the exact format function(a, b) for your answer and do not name the columns and rows. \n",
    "# Your answer should have exactly one space. \n",
    "\n",
    "# my 1st answer which names col and row\n",
    "table(predicted = y_hat, actual = y)\n",
    "# or 2nd\n",
    "table(y_hat, y)"
   ]
  },
  {
   "cell_type": "code",
   "execution_count": 10,
   "id": "602c96de",
   "metadata": {},
   "outputs": [
    {
     "data": {
      "text/html": [
       "<table>\n",
       "<thead><tr><th></th><th scope=col>Package</th><th scope=col>LibPath</th><th scope=col>Installed</th><th scope=col>Built</th><th scope=col>ReposVer</th><th scope=col>Repository</th></tr></thead>\n",
       "<tbody>\n",
       "\t<tr><th scope=row>ade4</th><td>ade4                                                 </td><td>C:/Users/asus/anaconda3/envs/r-tutorial/Lib/R/library</td><td>1.7-16                                               </td><td>3.6.3                                                </td><td>1.7-17                                               </td><td>https://cran.r-project.org/src/contrib               </td></tr>\n",
       "\t<tr><th scope=row>Amelia</th><td>Amelia                                               </td><td>C:/Users/asus/anaconda3/envs/r-tutorial/Lib/R/library</td><td>1.7.6                                                </td><td>3.6.3                                                </td><td>1.8.0                                                </td><td>https://cran.r-project.org/src/contrib               </td></tr>\n",
       "\t<tr><th scope=row>arrow</th><td>arrow                                                </td><td>C:/Users/asus/anaconda3/envs/r-tutorial/Lib/R/library</td><td>4.0.0                                                </td><td>3.6.3                                                </td><td>4.0.1                                                </td><td>https://cran.r-project.org/src/contrib               </td></tr>\n",
       "\t<tr><th scope=row>arules</th><td>arules                                               </td><td>C:/Users/asus/anaconda3/envs/r-tutorial/Lib/R/library</td><td>1.6-7                                                </td><td>3.6.3                                                </td><td>1.6-8                                                </td><td>https://cran.r-project.org/src/contrib               </td></tr>\n",
       "\t<tr><th scope=row>askpass</th><td>askpass                                              </td><td>C:/Users/asus/anaconda3/envs/r-tutorial/Lib/R/library</td><td>1.0                                                  </td><td>3.6.0                                                </td><td>1.1                                                  </td><td>https://cran.r-project.org/src/contrib               </td></tr>\n",
       "\t<tr><th scope=row>backports</th><td>backports                                            </td><td>C:/Users/asus/anaconda3/envs/r-tutorial/Lib/R/library</td><td>1.1.4                                                </td><td>3.6.0                                                </td><td>1.2.1                                                </td><td>https://cran.r-project.org/src/contrib               </td></tr>\n",
       "\t<tr><th scope=row>biclust</th><td>biclust                                              </td><td>C:/Users/asus/anaconda3/envs/r-tutorial/Lib/R/library</td><td>2.0.2                                                </td><td>3.6.3                                                </td><td>2.0.3                                                </td><td>https://cran.r-project.org/src/contrib               </td></tr>\n",
       "\t<tr><th scope=row>blavaan</th><td>blavaan                                              </td><td>C:/Users/asus/anaconda3/envs/r-tutorial/Lib/R/library</td><td>0.3-15                                               </td><td>3.6.3                                                </td><td>0.3-16                                               </td><td>https://cran.r-project.org/src/contrib               </td></tr>\n",
       "\t<tr><th scope=row>boot</th><td>boot                                                 </td><td>C:/Users/asus/anaconda3/envs/r-tutorial/Lib/R/library</td><td>1.3-20                                               </td><td>3.6.0                                                </td><td>1.3-28                                               </td><td>https://cran.r-project.org/src/contrib               </td></tr>\n",
       "\t<tr><th scope=row>broom</th><td>broom                                                </td><td>C:/Users/asus/anaconda3/envs/r-tutorial/Lib/R/library</td><td>0.5.2                                                </td><td>3.6.0                                                </td><td>0.7.8                                                </td><td>https://cran.r-project.org/src/contrib               </td></tr>\n",
       "\t<tr><th scope=row>broom.mixed</th><td>broom.mixed                                          </td><td>C:/Users/asus/anaconda3/envs/r-tutorial/Lib/R/library</td><td>0.2.6                                                </td><td>3.6.3                                                </td><td>0.2.7                                                </td><td>https://cran.r-project.org/src/contrib               </td></tr>\n",
       "\t<tr><th scope=row>bssm</th><td>bssm                                                 </td><td>C:/Users/asus/anaconda3/envs/r-tutorial/Lib/R/library</td><td>1.1.4                                                </td><td>3.6.3                                                </td><td>1.1.5                                                </td><td>https://cran.r-project.org/src/contrib               </td></tr>\n",
       "\t<tr><th scope=row>C50</th><td>C50                                                  </td><td>C:/Users/asus/anaconda3/envs/r-tutorial/Lib/R/library</td><td>0.1.3.1                                              </td><td>3.6.3                                                </td><td>0.1.5                                                </td><td>https://cran.r-project.org/src/contrib               </td></tr>\n",
       "\t<tr><th scope=row>caret</th><td>caret                                                </td><td>C:/Users/asus/anaconda3/envs/r-tutorial/Lib/R/library</td><td>6.0-86                                               </td><td>3.6.3                                                </td><td>6.0-88                                               </td><td>https://cran.r-project.org/src/contrib               </td></tr>\n",
       "\t<tr><th scope=row>class</th><td>class                                                </td><td>C:/Users/asus/anaconda3/envs/r-tutorial/Lib/R/library</td><td>7.3-15                                               </td><td>3.6.0                                                </td><td>7.3-19                                               </td><td>https://cran.r-project.org/src/contrib               </td></tr>\n",
       "\t<tr><th scope=row>cli</th><td>cli                                                  </td><td>C:/Users/asus/anaconda3/envs/r-tutorial/Lib/R/library</td><td>2.5.0                                                </td><td>3.6.3                                                </td><td>3.0.0                                                </td><td>https://cran.r-project.org/src/contrib               </td></tr>\n",
       "\t<tr><th scope=row>clipr</th><td>clipr                                                </td><td>C:/Users/asus/anaconda3/envs/r-tutorial/Lib/R/library</td><td>0.6.0                                                </td><td>3.6.0                                                </td><td>0.7.1                                                </td><td>https://cran.r-project.org/src/contrib               </td></tr>\n",
       "\t<tr><th scope=row>cluster</th><td>cluster                                              </td><td>C:/Users/asus/anaconda3/envs/r-tutorial/Lib/R/library</td><td>2.0.8                                                </td><td>3.6.0                                                </td><td>2.1.2                                                </td><td>https://cran.r-project.org/src/contrib               </td></tr>\n",
       "\t<tr><th scope=row>ClusterR</th><td>ClusterR                                             </td><td>C:/Users/asus/anaconda3/envs/r-tutorial/Lib/R/library</td><td>1.2.4                                                </td><td>3.6.3                                                </td><td>1.2.5                                                </td><td>https://cran.r-project.org/src/contrib               </td></tr>\n",
       "\t<tr><th scope=row>codetools</th><td>codetools                                            </td><td>C:/Users/asus/anaconda3/envs/r-tutorial/Lib/R/library</td><td>0.2-16                                               </td><td>3.6.0                                                </td><td>0.2-18                                               </td><td>https://cran.r-project.org/src/contrib               </td></tr>\n",
       "\t<tr><th scope=row>collapse</th><td>collapse                                             </td><td>C:/Users/asus/anaconda3/envs/r-tutorial/Lib/R/library</td><td>1.5.3                                                </td><td>3.6.3                                                </td><td>1.6.4                                                </td><td>https://cran.r-project.org/src/contrib               </td></tr>\n",
       "\t<tr><th scope=row>colorspace</th><td>colorspace                                           </td><td>C:/Users/asus/anaconda3/envs/r-tutorial/Lib/R/library</td><td>1.4-1                                                </td><td>3.6.0                                                </td><td>2.0-2                                                </td><td>https://cran.r-project.org/src/contrib               </td></tr>\n",
       "\t<tr><th scope=row>coneproj</th><td>coneproj                                             </td><td>C:/Users/asus/anaconda3/envs/r-tutorial/Lib/R/library</td><td>1.14                                                 </td><td>3.6.3                                                </td><td>1.15                                                 </td><td>https://cran.r-project.org/src/contrib               </td></tr>\n",
       "\t<tr><th scope=row>crayon</th><td>crayon                                               </td><td>C:/Users/asus/anaconda3/envs/r-tutorial/Lib/R/library</td><td>1.3.4                                                </td><td>3.6.0                                                </td><td>1.4.1                                                </td><td>https://cran.r-project.org/src/contrib               </td></tr>\n",
       "\t<tr><th scope=row>cubature</th><td>cubature                                             </td><td>C:/Users/asus/anaconda3/envs/r-tutorial/Lib/R/library</td><td>2.0.4.1                                              </td><td>3.6.3                                                </td><td>2.0.4.2                                              </td><td>https://cran.r-project.org/src/contrib               </td></tr>\n",
       "\t<tr><th scope=row>Cubist</th><td>Cubist                                               </td><td>C:/Users/asus/anaconda3/envs/r-tutorial/Lib/R/library</td><td>0.2.40                                               </td><td>3.6.3                                                </td><td>0.3.0                                                </td><td>https://cran.r-project.org/src/contrib               </td></tr>\n",
       "\t<tr><th scope=row>curl</th><td>curl                                                 </td><td>C:/Users/asus/anaconda3/envs/r-tutorial/Lib/R/library</td><td>4.3.1                                                </td><td>3.6.3                                                </td><td>4.3.2                                                </td><td>https://cran.r-project.org/src/contrib               </td></tr>\n",
       "\t<tr><th scope=row>data.table</th><td>data.table                                           </td><td>C:/Users/asus/anaconda3/envs/r-tutorial/Lib/R/library</td><td>1.12.2                                               </td><td>3.6.0                                                </td><td>1.14.0                                               </td><td>https://cran.r-project.org/src/contrib               </td></tr>\n",
       "\t<tr><th scope=row>DBI</th><td>DBI                                                  </td><td>C:/Users/asus/anaconda3/envs/r-tutorial/Lib/R/library</td><td>1.0.0                                                </td><td>3.6.0                                                </td><td>1.1.1                                                </td><td>https://cran.r-project.org/src/contrib               </td></tr>\n",
       "\t<tr><th scope=row>DescTools</th><td>DescTools                                            </td><td>C:/Users/asus/anaconda3/envs/r-tutorial/Lib/R/library</td><td>0.99.41                                              </td><td>3.6.3                                                </td><td>0.99.42                                              </td><td>https://cran.r-project.org/src/contrib               </td></tr>\n",
       "\t<tr><th scope=row>...</th><td>...</td><td>...</td><td>...</td><td>...</td><td>...</td><td>...</td></tr>\n",
       "\t<tr><th scope=row>styler</th><td>styler                                               </td><td>C:/Users/asus/anaconda3/envs/r-tutorial/Lib/R/library</td><td>1.4.1                                                </td><td>3.6.3                                                </td><td>1.5.1                                                </td><td>https://cran.r-project.org/src/contrib               </td></tr>\n",
       "\t<tr><th scope=row>survival</th><td>survival                                             </td><td>C:/Users/asus/anaconda3/envs/r-tutorial/Lib/R/library</td><td>2.44-1.1                                             </td><td>3.6.0                                                </td><td>3.2-11                                               </td><td>https://cran.r-project.org/src/contrib               </td></tr>\n",
       "\t<tr><th scope=row>sys</th><td>sys                                                  </td><td>C:/Users/asus/anaconda3/envs/r-tutorial/Lib/R/library</td><td>3.2                                                  </td><td>3.6.0                                                </td><td>3.4                                                  </td><td>https://cran.r-project.org/src/contrib               </td></tr>\n",
       "\t<tr><th scope=row>TAM</th><td>TAM                                                  </td><td>C:/Users/asus/anaconda3/envs/r-tutorial/Lib/R/library</td><td>3.6-45                                               </td><td>3.6.3                                                </td><td>3.7-16                                               </td><td>https://cran.r-project.org/src/contrib               </td></tr>\n",
       "\t<tr><th scope=row>tergm</th><td>tergm                                                </td><td>C:/Users/asus/anaconda3/envs/r-tutorial/Lib/R/library</td><td>3.7.0                                                </td><td>3.6.3                                                </td><td>4.0.1                                                </td><td>https://cran.r-project.org/src/contrib               </td></tr>\n",
       "\t<tr><th scope=row>terra</th><td>terra                                                </td><td>C:/Users/asus/anaconda3/envs/r-tutorial/Lib/R/library</td><td>1.2-5                                                </td><td>3.6.3                                                </td><td>1.3-4                                                </td><td>https://cran.r-project.org/src/contrib               </td></tr>\n",
       "\t<tr><th scope=row>testthat</th><td>testthat                                             </td><td>C:/Users/asus/anaconda3/envs/r-tutorial/Lib/R/library</td><td>3.0.2                                                </td><td>3.6.3                                                </td><td>3.0.4                                                </td><td>https://cran.r-project.org/src/contrib               </td></tr>\n",
       "\t<tr><th scope=row>tibble</th><td>tibble                                               </td><td>C:/Users/asus/anaconda3/envs/r-tutorial/Lib/R/library</td><td>3.1.1                                                </td><td>3.6.3                                                </td><td>3.1.2                                                </td><td>https://cran.r-project.org/src/contrib               </td></tr>\n",
       "\t<tr><th scope=row>tidyverse</th><td>tidyverse                                            </td><td>C:/Users/asus/anaconda3/envs/r-tutorial/Lib/R/library</td><td>1.2.1                                                </td><td>3.6.0                                                </td><td>1.3.1                                                </td><td>https://cran.r-project.org/src/contrib               </td></tr>\n",
       "\t<tr><th scope=row>timereg</th><td>timereg                                              </td><td>C:/Users/asus/anaconda3/envs/r-tutorial/Lib/R/library</td><td>1.9.8                                                </td><td>3.6.3                                                </td><td>2.0.0                                                </td><td>https://cran.r-project.org/src/contrib               </td></tr>\n",
       "\t<tr><th scope=row>tinytest</th><td>tinytest                                             </td><td>C:/Users/asus/anaconda3/envs/r-tutorial/Lib/R/library</td><td>1.2.4                                                </td><td>3.6.3                                                </td><td>1.3.1                                                </td><td>https://cran.r-project.org/src/contrib               </td></tr>\n",
       "\t<tr><th scope=row>tinytex</th><td>tinytex                                              </td><td>C:/Users/asus/anaconda3/envs/r-tutorial/Lib/R/library</td><td>0.12                                                 </td><td>3.6.0                                                </td><td>0.32                                                 </td><td>https://cran.r-project.org/src/contrib               </td></tr>\n",
       "\t<tr><th scope=row>TTR</th><td>TTR                                                  </td><td>C:/Users/asus/anaconda3/envs/r-tutorial/Lib/R/library</td><td>0.23-4                                               </td><td>3.6.0                                                </td><td>0.24.2                                               </td><td>https://cran.r-project.org/src/contrib               </td></tr>\n",
       "\t<tr><th scope=row>udpipe</th><td>udpipe                                               </td><td>C:/Users/asus/anaconda3/envs/r-tutorial/Lib/R/library</td><td>0.8.5                                                </td><td>3.6.3                                                </td><td>0.8.6                                                </td><td>https://cran.r-project.org/src/contrib               </td></tr>\n",
       "\t<tr><th scope=row>units</th><td>units                                                </td><td>C:/Users/asus/anaconda3/envs/r-tutorial/Lib/R/library</td><td>0.7-1                                                </td><td>3.6.3                                                </td><td>0.7-2                                                </td><td>https://cran.r-project.org/src/contrib               </td></tr>\n",
       "\t<tr><th scope=row>utf8</th><td>utf8                                                 </td><td>C:/Users/asus/anaconda3/envs/r-tutorial/Lib/R/library</td><td>1.1.4                                                </td><td>3.6.0                                                </td><td>1.2.1                                                </td><td>https://cran.r-project.org/src/contrib               </td></tr>\n",
       "\t<tr><th scope=row>uuid</th><td>uuid                                                 </td><td>C:/Users/asus/anaconda3/envs/r-tutorial/Lib/R/library</td><td>0.1-2                                                </td><td>3.6.0                                                </td><td>0.1-4                                                </td><td>https://cran.r-project.org/src/contrib               </td></tr>\n",
       "\t<tr><th scope=row>vcr</th><td>vcr                                                  </td><td>C:/Users/asus/anaconda3/envs/r-tutorial/Lib/R/library</td><td>0.6.0                                                </td><td>3.6.3                                                </td><td>1.0.2                                                </td><td>https://cran.r-project.org/src/contrib               </td></tr>\n",
       "\t<tr><th scope=row>vdiffr</th><td>vdiffr                                               </td><td>C:/Users/asus/anaconda3/envs/r-tutorial/Lib/R/library</td><td>0.3.3                                                </td><td>3.6.3                                                </td><td>1.0.2                                                </td><td>https://cran.r-project.org/src/contrib               </td></tr>\n",
       "\t<tr><th scope=row>VGAMextra</th><td>VGAMextra                                            </td><td>C:/Users/asus/anaconda3/envs/r-tutorial/Lib/R/library</td><td>0.0-4                                                </td><td>3.6.3                                                </td><td>0.0-5                                                </td><td>https://cran.r-project.org/src/contrib               </td></tr>\n",
       "\t<tr><th scope=row>VIM</th><td>VIM                                                  </td><td>C:/Users/asus/anaconda3/envs/r-tutorial/Lib/R/library</td><td>5.1.1                                                </td><td>3.6.3                                                </td><td>6.1.0                                                </td><td>https://cran.r-project.org/src/contrib               </td></tr>\n",
       "\t<tr><th scope=row>weights</th><td>weights                                              </td><td>C:/Users/asus/anaconda3/envs/r-tutorial/Lib/R/library</td><td>1.0.1                                                </td><td>3.6.3                                                </td><td>1.0.4                                                </td><td>https://cran.r-project.org/src/contrib               </td></tr>\n",
       "\t<tr><th scope=row>whisker</th><td>whisker                                              </td><td>C:/Users/asus/anaconda3/envs/r-tutorial/Lib/R/library</td><td>0.3-2                                                </td><td>3.6.0                                                </td><td>0.4                                                  </td><td>https://cran.r-project.org/src/contrib               </td></tr>\n",
       "\t<tr><th scope=row>wk</th><td>wk                                                   </td><td>C:/Users/asus/anaconda3/envs/r-tutorial/Lib/R/library</td><td>0.4.1                                                </td><td>3.6.3                                                </td><td>0.5.0                                                </td><td>https://cran.r-project.org/src/contrib               </td></tr>\n",
       "\t<tr><th scope=row>WRS2</th><td>WRS2                                                 </td><td>C:/Users/asus/anaconda3/envs/r-tutorial/Lib/R/library</td><td>1.1-1                                                </td><td>3.6.3                                                </td><td>1.1-2                                                </td><td>https://cran.r-project.org/src/contrib               </td></tr>\n",
       "\t<tr><th scope=row>xfun</th><td>xfun                                                 </td><td>C:/Users/asus/anaconda3/envs/r-tutorial/Lib/R/library</td><td>0.6                                                  </td><td>3.6.0                                                </td><td>0.24                                                 </td><td>https://cran.r-project.org/src/contrib               </td></tr>\n",
       "\t<tr><th scope=row>xml2</th><td>xml2                                                 </td><td>C:/Users/asus/anaconda3/envs/r-tutorial/Lib/R/library</td><td>1.2.0                                                </td><td>3.6.0                                                </td><td>1.3.2                                                </td><td>https://cran.r-project.org/src/contrib               </td></tr>\n",
       "\t<tr><th scope=row>xts</th><td>xts                                                  </td><td>C:/Users/asus/anaconda3/envs/r-tutorial/Lib/R/library</td><td>0.11-2                                               </td><td>3.6.0                                                </td><td>0.12.1                                               </td><td>https://cran.r-project.org/src/contrib               </td></tr>\n",
       "\t<tr><th scope=row>yaml</th><td>yaml                                                 </td><td>C:/Users/asus/anaconda3/envs/r-tutorial/Lib/R/library</td><td>2.2.0                                                </td><td>3.6.0                                                </td><td>2.2.1                                                </td><td>https://cran.r-project.org/src/contrib               </td></tr>\n",
       "\t<tr><th scope=row>zoo</th><td>zoo                                                  </td><td>C:/Users/asus/anaconda3/envs/r-tutorial/Lib/R/library</td><td>1.8-5                                                </td><td>3.6.0                                                </td><td>1.8-9                                                </td><td>https://cran.r-project.org/src/contrib               </td></tr>\n",
       "</tbody>\n",
       "</table>\n"
      ],
      "text/latex": [
       "\\begin{tabular}{r|llllll}\n",
       "  & Package & LibPath & Installed & Built & ReposVer & Repository\\\\\n",
       "\\hline\n",
       "\tade4 & ade4                                                  & C:/Users/asus/anaconda3/envs/r-tutorial/Lib/R/library & 1.7-16                                                & 3.6.3                                                 & 1.7-17                                                & https://cran.r-project.org/src/contrib               \\\\\n",
       "\tAmelia & Amelia                                                & C:/Users/asus/anaconda3/envs/r-tutorial/Lib/R/library & 1.7.6                                                 & 3.6.3                                                 & 1.8.0                                                 & https://cran.r-project.org/src/contrib               \\\\\n",
       "\tarrow & arrow                                                 & C:/Users/asus/anaconda3/envs/r-tutorial/Lib/R/library & 4.0.0                                                 & 3.6.3                                                 & 4.0.1                                                 & https://cran.r-project.org/src/contrib               \\\\\n",
       "\tarules & arules                                                & C:/Users/asus/anaconda3/envs/r-tutorial/Lib/R/library & 1.6-7                                                 & 3.6.3                                                 & 1.6-8                                                 & https://cran.r-project.org/src/contrib               \\\\\n",
       "\taskpass & askpass                                               & C:/Users/asus/anaconda3/envs/r-tutorial/Lib/R/library & 1.0                                                   & 3.6.0                                                 & 1.1                                                   & https://cran.r-project.org/src/contrib               \\\\\n",
       "\tbackports & backports                                             & C:/Users/asus/anaconda3/envs/r-tutorial/Lib/R/library & 1.1.4                                                 & 3.6.0                                                 & 1.2.1                                                 & https://cran.r-project.org/src/contrib               \\\\\n",
       "\tbiclust & biclust                                               & C:/Users/asus/anaconda3/envs/r-tutorial/Lib/R/library & 2.0.2                                                 & 3.6.3                                                 & 2.0.3                                                 & https://cran.r-project.org/src/contrib               \\\\\n",
       "\tblavaan & blavaan                                               & C:/Users/asus/anaconda3/envs/r-tutorial/Lib/R/library & 0.3-15                                                & 3.6.3                                                 & 0.3-16                                                & https://cran.r-project.org/src/contrib               \\\\\n",
       "\tboot & boot                                                  & C:/Users/asus/anaconda3/envs/r-tutorial/Lib/R/library & 1.3-20                                                & 3.6.0                                                 & 1.3-28                                                & https://cran.r-project.org/src/contrib               \\\\\n",
       "\tbroom & broom                                                 & C:/Users/asus/anaconda3/envs/r-tutorial/Lib/R/library & 0.5.2                                                 & 3.6.0                                                 & 0.7.8                                                 & https://cran.r-project.org/src/contrib               \\\\\n",
       "\tbroom.mixed & broom.mixed                                           & C:/Users/asus/anaconda3/envs/r-tutorial/Lib/R/library & 0.2.6                                                 & 3.6.3                                                 & 0.2.7                                                 & https://cran.r-project.org/src/contrib               \\\\\n",
       "\tbssm & bssm                                                  & C:/Users/asus/anaconda3/envs/r-tutorial/Lib/R/library & 1.1.4                                                 & 3.6.3                                                 & 1.1.5                                                 & https://cran.r-project.org/src/contrib               \\\\\n",
       "\tC50 & C50                                                   & C:/Users/asus/anaconda3/envs/r-tutorial/Lib/R/library & 0.1.3.1                                               & 3.6.3                                                 & 0.1.5                                                 & https://cran.r-project.org/src/contrib               \\\\\n",
       "\tcaret & caret                                                 & C:/Users/asus/anaconda3/envs/r-tutorial/Lib/R/library & 6.0-86                                                & 3.6.3                                                 & 6.0-88                                                & https://cran.r-project.org/src/contrib               \\\\\n",
       "\tclass & class                                                 & C:/Users/asus/anaconda3/envs/r-tutorial/Lib/R/library & 7.3-15                                                & 3.6.0                                                 & 7.3-19                                                & https://cran.r-project.org/src/contrib               \\\\\n",
       "\tcli & cli                                                   & C:/Users/asus/anaconda3/envs/r-tutorial/Lib/R/library & 2.5.0                                                 & 3.6.3                                                 & 3.0.0                                                 & https://cran.r-project.org/src/contrib               \\\\\n",
       "\tclipr & clipr                                                 & C:/Users/asus/anaconda3/envs/r-tutorial/Lib/R/library & 0.6.0                                                 & 3.6.0                                                 & 0.7.1                                                 & https://cran.r-project.org/src/contrib               \\\\\n",
       "\tcluster & cluster                                               & C:/Users/asus/anaconda3/envs/r-tutorial/Lib/R/library & 2.0.8                                                 & 3.6.0                                                 & 2.1.2                                                 & https://cran.r-project.org/src/contrib               \\\\\n",
       "\tClusterR & ClusterR                                              & C:/Users/asus/anaconda3/envs/r-tutorial/Lib/R/library & 1.2.4                                                 & 3.6.3                                                 & 1.2.5                                                 & https://cran.r-project.org/src/contrib               \\\\\n",
       "\tcodetools & codetools                                             & C:/Users/asus/anaconda3/envs/r-tutorial/Lib/R/library & 0.2-16                                                & 3.6.0                                                 & 0.2-18                                                & https://cran.r-project.org/src/contrib               \\\\\n",
       "\tcollapse & collapse                                              & C:/Users/asus/anaconda3/envs/r-tutorial/Lib/R/library & 1.5.3                                                 & 3.6.3                                                 & 1.6.4                                                 & https://cran.r-project.org/src/contrib               \\\\\n",
       "\tcolorspace & colorspace                                            & C:/Users/asus/anaconda3/envs/r-tutorial/Lib/R/library & 1.4-1                                                 & 3.6.0                                                 & 2.0-2                                                 & https://cran.r-project.org/src/contrib               \\\\\n",
       "\tconeproj & coneproj                                              & C:/Users/asus/anaconda3/envs/r-tutorial/Lib/R/library & 1.14                                                  & 3.6.3                                                 & 1.15                                                  & https://cran.r-project.org/src/contrib               \\\\\n",
       "\tcrayon & crayon                                                & C:/Users/asus/anaconda3/envs/r-tutorial/Lib/R/library & 1.3.4                                                 & 3.6.0                                                 & 1.4.1                                                 & https://cran.r-project.org/src/contrib               \\\\\n",
       "\tcubature & cubature                                              & C:/Users/asus/anaconda3/envs/r-tutorial/Lib/R/library & 2.0.4.1                                               & 3.6.3                                                 & 2.0.4.2                                               & https://cran.r-project.org/src/contrib               \\\\\n",
       "\tCubist & Cubist                                                & C:/Users/asus/anaconda3/envs/r-tutorial/Lib/R/library & 0.2.40                                                & 3.6.3                                                 & 0.3.0                                                 & https://cran.r-project.org/src/contrib               \\\\\n",
       "\tcurl & curl                                                  & C:/Users/asus/anaconda3/envs/r-tutorial/Lib/R/library & 4.3.1                                                 & 3.6.3                                                 & 4.3.2                                                 & https://cran.r-project.org/src/contrib               \\\\\n",
       "\tdata.table & data.table                                            & C:/Users/asus/anaconda3/envs/r-tutorial/Lib/R/library & 1.12.2                                                & 3.6.0                                                 & 1.14.0                                                & https://cran.r-project.org/src/contrib               \\\\\n",
       "\tDBI & DBI                                                   & C:/Users/asus/anaconda3/envs/r-tutorial/Lib/R/library & 1.0.0                                                 & 3.6.0                                                 & 1.1.1                                                 & https://cran.r-project.org/src/contrib               \\\\\n",
       "\tDescTools & DescTools                                             & C:/Users/asus/anaconda3/envs/r-tutorial/Lib/R/library & 0.99.41                                               & 3.6.3                                                 & 0.99.42                                               & https://cran.r-project.org/src/contrib               \\\\\n",
       "\t... & ... & ... & ... & ... & ... & ...\\\\\n",
       "\tstyler & styler                                                & C:/Users/asus/anaconda3/envs/r-tutorial/Lib/R/library & 1.4.1                                                 & 3.6.3                                                 & 1.5.1                                                 & https://cran.r-project.org/src/contrib               \\\\\n",
       "\tsurvival & survival                                              & C:/Users/asus/anaconda3/envs/r-tutorial/Lib/R/library & 2.44-1.1                                              & 3.6.0                                                 & 3.2-11                                                & https://cran.r-project.org/src/contrib               \\\\\n",
       "\tsys & sys                                                   & C:/Users/asus/anaconda3/envs/r-tutorial/Lib/R/library & 3.2                                                   & 3.6.0                                                 & 3.4                                                   & https://cran.r-project.org/src/contrib               \\\\\n",
       "\tTAM & TAM                                                   & C:/Users/asus/anaconda3/envs/r-tutorial/Lib/R/library & 3.6-45                                                & 3.6.3                                                 & 3.7-16                                                & https://cran.r-project.org/src/contrib               \\\\\n",
       "\ttergm & tergm                                                 & C:/Users/asus/anaconda3/envs/r-tutorial/Lib/R/library & 3.7.0                                                 & 3.6.3                                                 & 4.0.1                                                 & https://cran.r-project.org/src/contrib               \\\\\n",
       "\tterra & terra                                                 & C:/Users/asus/anaconda3/envs/r-tutorial/Lib/R/library & 1.2-5                                                 & 3.6.3                                                 & 1.3-4                                                 & https://cran.r-project.org/src/contrib               \\\\\n",
       "\ttestthat & testthat                                              & C:/Users/asus/anaconda3/envs/r-tutorial/Lib/R/library & 3.0.2                                                 & 3.6.3                                                 & 3.0.4                                                 & https://cran.r-project.org/src/contrib               \\\\\n",
       "\ttibble & tibble                                                & C:/Users/asus/anaconda3/envs/r-tutorial/Lib/R/library & 3.1.1                                                 & 3.6.3                                                 & 3.1.2                                                 & https://cran.r-project.org/src/contrib               \\\\\n",
       "\ttidyverse & tidyverse                                             & C:/Users/asus/anaconda3/envs/r-tutorial/Lib/R/library & 1.2.1                                                 & 3.6.0                                                 & 1.3.1                                                 & https://cran.r-project.org/src/contrib               \\\\\n",
       "\ttimereg & timereg                                               & C:/Users/asus/anaconda3/envs/r-tutorial/Lib/R/library & 1.9.8                                                 & 3.6.3                                                 & 2.0.0                                                 & https://cran.r-project.org/src/contrib               \\\\\n",
       "\ttinytest & tinytest                                              & C:/Users/asus/anaconda3/envs/r-tutorial/Lib/R/library & 1.2.4                                                 & 3.6.3                                                 & 1.3.1                                                 & https://cran.r-project.org/src/contrib               \\\\\n",
       "\ttinytex & tinytex                                               & C:/Users/asus/anaconda3/envs/r-tutorial/Lib/R/library & 0.12                                                  & 3.6.0                                                 & 0.32                                                  & https://cran.r-project.org/src/contrib               \\\\\n",
       "\tTTR & TTR                                                   & C:/Users/asus/anaconda3/envs/r-tutorial/Lib/R/library & 0.23-4                                                & 3.6.0                                                 & 0.24.2                                                & https://cran.r-project.org/src/contrib               \\\\\n",
       "\tudpipe & udpipe                                                & C:/Users/asus/anaconda3/envs/r-tutorial/Lib/R/library & 0.8.5                                                 & 3.6.3                                                 & 0.8.6                                                 & https://cran.r-project.org/src/contrib               \\\\\n",
       "\tunits & units                                                 & C:/Users/asus/anaconda3/envs/r-tutorial/Lib/R/library & 0.7-1                                                 & 3.6.3                                                 & 0.7-2                                                 & https://cran.r-project.org/src/contrib               \\\\\n",
       "\tutf8 & utf8                                                  & C:/Users/asus/anaconda3/envs/r-tutorial/Lib/R/library & 1.1.4                                                 & 3.6.0                                                 & 1.2.1                                                 & https://cran.r-project.org/src/contrib               \\\\\n",
       "\tuuid & uuid                                                  & C:/Users/asus/anaconda3/envs/r-tutorial/Lib/R/library & 0.1-2                                                 & 3.6.0                                                 & 0.1-4                                                 & https://cran.r-project.org/src/contrib               \\\\\n",
       "\tvcr & vcr                                                   & C:/Users/asus/anaconda3/envs/r-tutorial/Lib/R/library & 0.6.0                                                 & 3.6.3                                                 & 1.0.2                                                 & https://cran.r-project.org/src/contrib               \\\\\n",
       "\tvdiffr & vdiffr                                                & C:/Users/asus/anaconda3/envs/r-tutorial/Lib/R/library & 0.3.3                                                 & 3.6.3                                                 & 1.0.2                                                 & https://cran.r-project.org/src/contrib               \\\\\n",
       "\tVGAMextra & VGAMextra                                             & C:/Users/asus/anaconda3/envs/r-tutorial/Lib/R/library & 0.0-4                                                 & 3.6.3                                                 & 0.0-5                                                 & https://cran.r-project.org/src/contrib               \\\\\n",
       "\tVIM & VIM                                                   & C:/Users/asus/anaconda3/envs/r-tutorial/Lib/R/library & 5.1.1                                                 & 3.6.3                                                 & 6.1.0                                                 & https://cran.r-project.org/src/contrib               \\\\\n",
       "\tweights & weights                                               & C:/Users/asus/anaconda3/envs/r-tutorial/Lib/R/library & 1.0.1                                                 & 3.6.3                                                 & 1.0.4                                                 & https://cran.r-project.org/src/contrib               \\\\\n",
       "\twhisker & whisker                                               & C:/Users/asus/anaconda3/envs/r-tutorial/Lib/R/library & 0.3-2                                                 & 3.6.0                                                 & 0.4                                                   & https://cran.r-project.org/src/contrib               \\\\\n",
       "\twk & wk                                                    & C:/Users/asus/anaconda3/envs/r-tutorial/Lib/R/library & 0.4.1                                                 & 3.6.3                                                 & 0.5.0                                                 & https://cran.r-project.org/src/contrib               \\\\\n",
       "\tWRS2 & WRS2                                                  & C:/Users/asus/anaconda3/envs/r-tutorial/Lib/R/library & 1.1-1                                                 & 3.6.3                                                 & 1.1-2                                                 & https://cran.r-project.org/src/contrib               \\\\\n",
       "\txfun & xfun                                                  & C:/Users/asus/anaconda3/envs/r-tutorial/Lib/R/library & 0.6                                                   & 3.6.0                                                 & 0.24                                                  & https://cran.r-project.org/src/contrib               \\\\\n",
       "\txml2 & xml2                                                  & C:/Users/asus/anaconda3/envs/r-tutorial/Lib/R/library & 1.2.0                                                 & 3.6.0                                                 & 1.3.2                                                 & https://cran.r-project.org/src/contrib               \\\\\n",
       "\txts & xts                                                   & C:/Users/asus/anaconda3/envs/r-tutorial/Lib/R/library & 0.11-2                                                & 3.6.0                                                 & 0.12.1                                                & https://cran.r-project.org/src/contrib               \\\\\n",
       "\tyaml & yaml                                                  & C:/Users/asus/anaconda3/envs/r-tutorial/Lib/R/library & 2.2.0                                                 & 3.6.0                                                 & 2.2.1                                                 & https://cran.r-project.org/src/contrib               \\\\\n",
       "\tzoo & zoo                                                   & C:/Users/asus/anaconda3/envs/r-tutorial/Lib/R/library & 1.8-5                                                 & 3.6.0                                                 & 1.8-9                                                 & https://cran.r-project.org/src/contrib               \\\\\n",
       "\\end{tabular}\n"
      ],
      "text/markdown": [
       "\n",
       "| <!--/--> | Package | LibPath | Installed | Built | ReposVer | Repository |\n",
       "|---|---|---|---|---|---|---|\n",
       "| ade4 | ade4                                                  | C:/Users/asus/anaconda3/envs/r-tutorial/Lib/R/library | 1.7-16                                                | 3.6.3                                                 | 1.7-17                                                | https://cran.r-project.org/src/contrib                |\n",
       "| Amelia | Amelia                                                | C:/Users/asus/anaconda3/envs/r-tutorial/Lib/R/library | 1.7.6                                                 | 3.6.3                                                 | 1.8.0                                                 | https://cran.r-project.org/src/contrib                |\n",
       "| arrow | arrow                                                 | C:/Users/asus/anaconda3/envs/r-tutorial/Lib/R/library | 4.0.0                                                 | 3.6.3                                                 | 4.0.1                                                 | https://cran.r-project.org/src/contrib                |\n",
       "| arules | arules                                                | C:/Users/asus/anaconda3/envs/r-tutorial/Lib/R/library | 1.6-7                                                 | 3.6.3                                                 | 1.6-8                                                 | https://cran.r-project.org/src/contrib                |\n",
       "| askpass | askpass                                               | C:/Users/asus/anaconda3/envs/r-tutorial/Lib/R/library | 1.0                                                   | 3.6.0                                                 | 1.1                                                   | https://cran.r-project.org/src/contrib                |\n",
       "| backports | backports                                             | C:/Users/asus/anaconda3/envs/r-tutorial/Lib/R/library | 1.1.4                                                 | 3.6.0                                                 | 1.2.1                                                 | https://cran.r-project.org/src/contrib                |\n",
       "| biclust | biclust                                               | C:/Users/asus/anaconda3/envs/r-tutorial/Lib/R/library | 2.0.2                                                 | 3.6.3                                                 | 2.0.3                                                 | https://cran.r-project.org/src/contrib                |\n",
       "| blavaan | blavaan                                               | C:/Users/asus/anaconda3/envs/r-tutorial/Lib/R/library | 0.3-15                                                | 3.6.3                                                 | 0.3-16                                                | https://cran.r-project.org/src/contrib                |\n",
       "| boot | boot                                                  | C:/Users/asus/anaconda3/envs/r-tutorial/Lib/R/library | 1.3-20                                                | 3.6.0                                                 | 1.3-28                                                | https://cran.r-project.org/src/contrib                |\n",
       "| broom | broom                                                 | C:/Users/asus/anaconda3/envs/r-tutorial/Lib/R/library | 0.5.2                                                 | 3.6.0                                                 | 0.7.8                                                 | https://cran.r-project.org/src/contrib                |\n",
       "| broom.mixed | broom.mixed                                           | C:/Users/asus/anaconda3/envs/r-tutorial/Lib/R/library | 0.2.6                                                 | 3.6.3                                                 | 0.2.7                                                 | https://cran.r-project.org/src/contrib                |\n",
       "| bssm | bssm                                                  | C:/Users/asus/anaconda3/envs/r-tutorial/Lib/R/library | 1.1.4                                                 | 3.6.3                                                 | 1.1.5                                                 | https://cran.r-project.org/src/contrib                |\n",
       "| C50 | C50                                                   | C:/Users/asus/anaconda3/envs/r-tutorial/Lib/R/library | 0.1.3.1                                               | 3.6.3                                                 | 0.1.5                                                 | https://cran.r-project.org/src/contrib                |\n",
       "| caret | caret                                                 | C:/Users/asus/anaconda3/envs/r-tutorial/Lib/R/library | 6.0-86                                                | 3.6.3                                                 | 6.0-88                                                | https://cran.r-project.org/src/contrib                |\n",
       "| class | class                                                 | C:/Users/asus/anaconda3/envs/r-tutorial/Lib/R/library | 7.3-15                                                | 3.6.0                                                 | 7.3-19                                                | https://cran.r-project.org/src/contrib                |\n",
       "| cli | cli                                                   | C:/Users/asus/anaconda3/envs/r-tutorial/Lib/R/library | 2.5.0                                                 | 3.6.3                                                 | 3.0.0                                                 | https://cran.r-project.org/src/contrib                |\n",
       "| clipr | clipr                                                 | C:/Users/asus/anaconda3/envs/r-tutorial/Lib/R/library | 0.6.0                                                 | 3.6.0                                                 | 0.7.1                                                 | https://cran.r-project.org/src/contrib                |\n",
       "| cluster | cluster                                               | C:/Users/asus/anaconda3/envs/r-tutorial/Lib/R/library | 2.0.8                                                 | 3.6.0                                                 | 2.1.2                                                 | https://cran.r-project.org/src/contrib                |\n",
       "| ClusterR | ClusterR                                              | C:/Users/asus/anaconda3/envs/r-tutorial/Lib/R/library | 1.2.4                                                 | 3.6.3                                                 | 1.2.5                                                 | https://cran.r-project.org/src/contrib                |\n",
       "| codetools | codetools                                             | C:/Users/asus/anaconda3/envs/r-tutorial/Lib/R/library | 0.2-16                                                | 3.6.0                                                 | 0.2-18                                                | https://cran.r-project.org/src/contrib                |\n",
       "| collapse | collapse                                              | C:/Users/asus/anaconda3/envs/r-tutorial/Lib/R/library | 1.5.3                                                 | 3.6.3                                                 | 1.6.4                                                 | https://cran.r-project.org/src/contrib                |\n",
       "| colorspace | colorspace                                            | C:/Users/asus/anaconda3/envs/r-tutorial/Lib/R/library | 1.4-1                                                 | 3.6.0                                                 | 2.0-2                                                 | https://cran.r-project.org/src/contrib                |\n",
       "| coneproj | coneproj                                              | C:/Users/asus/anaconda3/envs/r-tutorial/Lib/R/library | 1.14                                                  | 3.6.3                                                 | 1.15                                                  | https://cran.r-project.org/src/contrib                |\n",
       "| crayon | crayon                                                | C:/Users/asus/anaconda3/envs/r-tutorial/Lib/R/library | 1.3.4                                                 | 3.6.0                                                 | 1.4.1                                                 | https://cran.r-project.org/src/contrib                |\n",
       "| cubature | cubature                                              | C:/Users/asus/anaconda3/envs/r-tutorial/Lib/R/library | 2.0.4.1                                               | 3.6.3                                                 | 2.0.4.2                                               | https://cran.r-project.org/src/contrib                |\n",
       "| Cubist | Cubist                                                | C:/Users/asus/anaconda3/envs/r-tutorial/Lib/R/library | 0.2.40                                                | 3.6.3                                                 | 0.3.0                                                 | https://cran.r-project.org/src/contrib                |\n",
       "| curl | curl                                                  | C:/Users/asus/anaconda3/envs/r-tutorial/Lib/R/library | 4.3.1                                                 | 3.6.3                                                 | 4.3.2                                                 | https://cran.r-project.org/src/contrib                |\n",
       "| data.table | data.table                                            | C:/Users/asus/anaconda3/envs/r-tutorial/Lib/R/library | 1.12.2                                                | 3.6.0                                                 | 1.14.0                                                | https://cran.r-project.org/src/contrib                |\n",
       "| DBI | DBI                                                   | C:/Users/asus/anaconda3/envs/r-tutorial/Lib/R/library | 1.0.0                                                 | 3.6.0                                                 | 1.1.1                                                 | https://cran.r-project.org/src/contrib                |\n",
       "| DescTools | DescTools                                             | C:/Users/asus/anaconda3/envs/r-tutorial/Lib/R/library | 0.99.41                                               | 3.6.3                                                 | 0.99.42                                               | https://cran.r-project.org/src/contrib                |\n",
       "| ... | ... | ... | ... | ... | ... | ... |\n",
       "| styler | styler                                                | C:/Users/asus/anaconda3/envs/r-tutorial/Lib/R/library | 1.4.1                                                 | 3.6.3                                                 | 1.5.1                                                 | https://cran.r-project.org/src/contrib                |\n",
       "| survival | survival                                              | C:/Users/asus/anaconda3/envs/r-tutorial/Lib/R/library | 2.44-1.1                                              | 3.6.0                                                 | 3.2-11                                                | https://cran.r-project.org/src/contrib                |\n",
       "| sys | sys                                                   | C:/Users/asus/anaconda3/envs/r-tutorial/Lib/R/library | 3.2                                                   | 3.6.0                                                 | 3.4                                                   | https://cran.r-project.org/src/contrib                |\n",
       "| TAM | TAM                                                   | C:/Users/asus/anaconda3/envs/r-tutorial/Lib/R/library | 3.6-45                                                | 3.6.3                                                 | 3.7-16                                                | https://cran.r-project.org/src/contrib                |\n",
       "| tergm | tergm                                                 | C:/Users/asus/anaconda3/envs/r-tutorial/Lib/R/library | 3.7.0                                                 | 3.6.3                                                 | 4.0.1                                                 | https://cran.r-project.org/src/contrib                |\n",
       "| terra | terra                                                 | C:/Users/asus/anaconda3/envs/r-tutorial/Lib/R/library | 1.2-5                                                 | 3.6.3                                                 | 1.3-4                                                 | https://cran.r-project.org/src/contrib                |\n",
       "| testthat | testthat                                              | C:/Users/asus/anaconda3/envs/r-tutorial/Lib/R/library | 3.0.2                                                 | 3.6.3                                                 | 3.0.4                                                 | https://cran.r-project.org/src/contrib                |\n",
       "| tibble | tibble                                                | C:/Users/asus/anaconda3/envs/r-tutorial/Lib/R/library | 3.1.1                                                 | 3.6.3                                                 | 3.1.2                                                 | https://cran.r-project.org/src/contrib                |\n",
       "| tidyverse | tidyverse                                             | C:/Users/asus/anaconda3/envs/r-tutorial/Lib/R/library | 1.2.1                                                 | 3.6.0                                                 | 1.3.1                                                 | https://cran.r-project.org/src/contrib                |\n",
       "| timereg | timereg                                               | C:/Users/asus/anaconda3/envs/r-tutorial/Lib/R/library | 1.9.8                                                 | 3.6.3                                                 | 2.0.0                                                 | https://cran.r-project.org/src/contrib                |\n",
       "| tinytest | tinytest                                              | C:/Users/asus/anaconda3/envs/r-tutorial/Lib/R/library | 1.2.4                                                 | 3.6.3                                                 | 1.3.1                                                 | https://cran.r-project.org/src/contrib                |\n",
       "| tinytex | tinytex                                               | C:/Users/asus/anaconda3/envs/r-tutorial/Lib/R/library | 0.12                                                  | 3.6.0                                                 | 0.32                                                  | https://cran.r-project.org/src/contrib                |\n",
       "| TTR | TTR                                                   | C:/Users/asus/anaconda3/envs/r-tutorial/Lib/R/library | 0.23-4                                                | 3.6.0                                                 | 0.24.2                                                | https://cran.r-project.org/src/contrib                |\n",
       "| udpipe | udpipe                                                | C:/Users/asus/anaconda3/envs/r-tutorial/Lib/R/library | 0.8.5                                                 | 3.6.3                                                 | 0.8.6                                                 | https://cran.r-project.org/src/contrib                |\n",
       "| units | units                                                 | C:/Users/asus/anaconda3/envs/r-tutorial/Lib/R/library | 0.7-1                                                 | 3.6.3                                                 | 0.7-2                                                 | https://cran.r-project.org/src/contrib                |\n",
       "| utf8 | utf8                                                  | C:/Users/asus/anaconda3/envs/r-tutorial/Lib/R/library | 1.1.4                                                 | 3.6.0                                                 | 1.2.1                                                 | https://cran.r-project.org/src/contrib                |\n",
       "| uuid | uuid                                                  | C:/Users/asus/anaconda3/envs/r-tutorial/Lib/R/library | 0.1-2                                                 | 3.6.0                                                 | 0.1-4                                                 | https://cran.r-project.org/src/contrib                |\n",
       "| vcr | vcr                                                   | C:/Users/asus/anaconda3/envs/r-tutorial/Lib/R/library | 0.6.0                                                 | 3.6.3                                                 | 1.0.2                                                 | https://cran.r-project.org/src/contrib                |\n",
       "| vdiffr | vdiffr                                                | C:/Users/asus/anaconda3/envs/r-tutorial/Lib/R/library | 0.3.3                                                 | 3.6.3                                                 | 1.0.2                                                 | https://cran.r-project.org/src/contrib                |\n",
       "| VGAMextra | VGAMextra                                             | C:/Users/asus/anaconda3/envs/r-tutorial/Lib/R/library | 0.0-4                                                 | 3.6.3                                                 | 0.0-5                                                 | https://cran.r-project.org/src/contrib                |\n",
       "| VIM | VIM                                                   | C:/Users/asus/anaconda3/envs/r-tutorial/Lib/R/library | 5.1.1                                                 | 3.6.3                                                 | 6.1.0                                                 | https://cran.r-project.org/src/contrib                |\n",
       "| weights | weights                                               | C:/Users/asus/anaconda3/envs/r-tutorial/Lib/R/library | 1.0.1                                                 | 3.6.3                                                 | 1.0.4                                                 | https://cran.r-project.org/src/contrib                |\n",
       "| whisker | whisker                                               | C:/Users/asus/anaconda3/envs/r-tutorial/Lib/R/library | 0.3-2                                                 | 3.6.0                                                 | 0.4                                                   | https://cran.r-project.org/src/contrib                |\n",
       "| wk | wk                                                    | C:/Users/asus/anaconda3/envs/r-tutorial/Lib/R/library | 0.4.1                                                 | 3.6.3                                                 | 0.5.0                                                 | https://cran.r-project.org/src/contrib                |\n",
       "| WRS2 | WRS2                                                  | C:/Users/asus/anaconda3/envs/r-tutorial/Lib/R/library | 1.1-1                                                 | 3.6.3                                                 | 1.1-2                                                 | https://cran.r-project.org/src/contrib                |\n",
       "| xfun | xfun                                                  | C:/Users/asus/anaconda3/envs/r-tutorial/Lib/R/library | 0.6                                                   | 3.6.0                                                 | 0.24                                                  | https://cran.r-project.org/src/contrib                |\n",
       "| xml2 | xml2                                                  | C:/Users/asus/anaconda3/envs/r-tutorial/Lib/R/library | 1.2.0                                                 | 3.6.0                                                 | 1.3.2                                                 | https://cran.r-project.org/src/contrib                |\n",
       "| xts | xts                                                   | C:/Users/asus/anaconda3/envs/r-tutorial/Lib/R/library | 0.11-2                                                | 3.6.0                                                 | 0.12.1                                                | https://cran.r-project.org/src/contrib                |\n",
       "| yaml | yaml                                                  | C:/Users/asus/anaconda3/envs/r-tutorial/Lib/R/library | 2.2.0                                                 | 3.6.0                                                 | 2.2.1                                                 | https://cran.r-project.org/src/contrib                |\n",
       "| zoo | zoo                                                   | C:/Users/asus/anaconda3/envs/r-tutorial/Lib/R/library | 1.8-5                                                 | 3.6.0                                                 | 1.8-9                                                 | https://cran.r-project.org/src/contrib                |\n",
       "\n"
      ],
      "text/plain": [
       "            Package     LibPath                                              \n",
       "ade4        ade4        C:/Users/asus/anaconda3/envs/r-tutorial/Lib/R/library\n",
       "Amelia      Amelia      C:/Users/asus/anaconda3/envs/r-tutorial/Lib/R/library\n",
       "arrow       arrow       C:/Users/asus/anaconda3/envs/r-tutorial/Lib/R/library\n",
       "arules      arules      C:/Users/asus/anaconda3/envs/r-tutorial/Lib/R/library\n",
       "askpass     askpass     C:/Users/asus/anaconda3/envs/r-tutorial/Lib/R/library\n",
       "backports   backports   C:/Users/asus/anaconda3/envs/r-tutorial/Lib/R/library\n",
       "biclust     biclust     C:/Users/asus/anaconda3/envs/r-tutorial/Lib/R/library\n",
       "blavaan     blavaan     C:/Users/asus/anaconda3/envs/r-tutorial/Lib/R/library\n",
       "boot        boot        C:/Users/asus/anaconda3/envs/r-tutorial/Lib/R/library\n",
       "broom       broom       C:/Users/asus/anaconda3/envs/r-tutorial/Lib/R/library\n",
       "broom.mixed broom.mixed C:/Users/asus/anaconda3/envs/r-tutorial/Lib/R/library\n",
       "bssm        bssm        C:/Users/asus/anaconda3/envs/r-tutorial/Lib/R/library\n",
       "C50         C50         C:/Users/asus/anaconda3/envs/r-tutorial/Lib/R/library\n",
       "caret       caret       C:/Users/asus/anaconda3/envs/r-tutorial/Lib/R/library\n",
       "class       class       C:/Users/asus/anaconda3/envs/r-tutorial/Lib/R/library\n",
       "cli         cli         C:/Users/asus/anaconda3/envs/r-tutorial/Lib/R/library\n",
       "clipr       clipr       C:/Users/asus/anaconda3/envs/r-tutorial/Lib/R/library\n",
       "cluster     cluster     C:/Users/asus/anaconda3/envs/r-tutorial/Lib/R/library\n",
       "ClusterR    ClusterR    C:/Users/asus/anaconda3/envs/r-tutorial/Lib/R/library\n",
       "codetools   codetools   C:/Users/asus/anaconda3/envs/r-tutorial/Lib/R/library\n",
       "collapse    collapse    C:/Users/asus/anaconda3/envs/r-tutorial/Lib/R/library\n",
       "colorspace  colorspace  C:/Users/asus/anaconda3/envs/r-tutorial/Lib/R/library\n",
       "coneproj    coneproj    C:/Users/asus/anaconda3/envs/r-tutorial/Lib/R/library\n",
       "crayon      crayon      C:/Users/asus/anaconda3/envs/r-tutorial/Lib/R/library\n",
       "cubature    cubature    C:/Users/asus/anaconda3/envs/r-tutorial/Lib/R/library\n",
       "Cubist      Cubist      C:/Users/asus/anaconda3/envs/r-tutorial/Lib/R/library\n",
       "curl        curl        C:/Users/asus/anaconda3/envs/r-tutorial/Lib/R/library\n",
       "data.table  data.table  C:/Users/asus/anaconda3/envs/r-tutorial/Lib/R/library\n",
       "DBI         DBI         C:/Users/asus/anaconda3/envs/r-tutorial/Lib/R/library\n",
       "DescTools   DescTools   C:/Users/asus/anaconda3/envs/r-tutorial/Lib/R/library\n",
       "...         ...         ...                                                  \n",
       "styler      styler      C:/Users/asus/anaconda3/envs/r-tutorial/Lib/R/library\n",
       "survival    survival    C:/Users/asus/anaconda3/envs/r-tutorial/Lib/R/library\n",
       "sys         sys         C:/Users/asus/anaconda3/envs/r-tutorial/Lib/R/library\n",
       "TAM         TAM         C:/Users/asus/anaconda3/envs/r-tutorial/Lib/R/library\n",
       "tergm       tergm       C:/Users/asus/anaconda3/envs/r-tutorial/Lib/R/library\n",
       "terra       terra       C:/Users/asus/anaconda3/envs/r-tutorial/Lib/R/library\n",
       "testthat    testthat    C:/Users/asus/anaconda3/envs/r-tutorial/Lib/R/library\n",
       "tibble      tibble      C:/Users/asus/anaconda3/envs/r-tutorial/Lib/R/library\n",
       "tidyverse   tidyverse   C:/Users/asus/anaconda3/envs/r-tutorial/Lib/R/library\n",
       "timereg     timereg     C:/Users/asus/anaconda3/envs/r-tutorial/Lib/R/library\n",
       "tinytest    tinytest    C:/Users/asus/anaconda3/envs/r-tutorial/Lib/R/library\n",
       "tinytex     tinytex     C:/Users/asus/anaconda3/envs/r-tutorial/Lib/R/library\n",
       "TTR         TTR         C:/Users/asus/anaconda3/envs/r-tutorial/Lib/R/library\n",
       "udpipe      udpipe      C:/Users/asus/anaconda3/envs/r-tutorial/Lib/R/library\n",
       "units       units       C:/Users/asus/anaconda3/envs/r-tutorial/Lib/R/library\n",
       "utf8        utf8        C:/Users/asus/anaconda3/envs/r-tutorial/Lib/R/library\n",
       "uuid        uuid        C:/Users/asus/anaconda3/envs/r-tutorial/Lib/R/library\n",
       "vcr         vcr         C:/Users/asus/anaconda3/envs/r-tutorial/Lib/R/library\n",
       "vdiffr      vdiffr      C:/Users/asus/anaconda3/envs/r-tutorial/Lib/R/library\n",
       "VGAMextra   VGAMextra   C:/Users/asus/anaconda3/envs/r-tutorial/Lib/R/library\n",
       "VIM         VIM         C:/Users/asus/anaconda3/envs/r-tutorial/Lib/R/library\n",
       "weights     weights     C:/Users/asus/anaconda3/envs/r-tutorial/Lib/R/library\n",
       "whisker     whisker     C:/Users/asus/anaconda3/envs/r-tutorial/Lib/R/library\n",
       "wk          wk          C:/Users/asus/anaconda3/envs/r-tutorial/Lib/R/library\n",
       "WRS2        WRS2        C:/Users/asus/anaconda3/envs/r-tutorial/Lib/R/library\n",
       "xfun        xfun        C:/Users/asus/anaconda3/envs/r-tutorial/Lib/R/library\n",
       "xml2        xml2        C:/Users/asus/anaconda3/envs/r-tutorial/Lib/R/library\n",
       "xts         xts         C:/Users/asus/anaconda3/envs/r-tutorial/Lib/R/library\n",
       "yaml        yaml        C:/Users/asus/anaconda3/envs/r-tutorial/Lib/R/library\n",
       "zoo         zoo         C:/Users/asus/anaconda3/envs/r-tutorial/Lib/R/library\n",
       "            Installed Built ReposVer Repository                            \n",
       "ade4        1.7-16    3.6.3 1.7-17   https://cran.r-project.org/src/contrib\n",
       "Amelia      1.7.6     3.6.3 1.8.0    https://cran.r-project.org/src/contrib\n",
       "arrow       4.0.0     3.6.3 4.0.1    https://cran.r-project.org/src/contrib\n",
       "arules      1.6-7     3.6.3 1.6-8    https://cran.r-project.org/src/contrib\n",
       "askpass     1.0       3.6.0 1.1      https://cran.r-project.org/src/contrib\n",
       "backports   1.1.4     3.6.0 1.2.1    https://cran.r-project.org/src/contrib\n",
       "biclust     2.0.2     3.6.3 2.0.3    https://cran.r-project.org/src/contrib\n",
       "blavaan     0.3-15    3.6.3 0.3-16   https://cran.r-project.org/src/contrib\n",
       "boot        1.3-20    3.6.0 1.3-28   https://cran.r-project.org/src/contrib\n",
       "broom       0.5.2     3.6.0 0.7.8    https://cran.r-project.org/src/contrib\n",
       "broom.mixed 0.2.6     3.6.3 0.2.7    https://cran.r-project.org/src/contrib\n",
       "bssm        1.1.4     3.6.3 1.1.5    https://cran.r-project.org/src/contrib\n",
       "C50         0.1.3.1   3.6.3 0.1.5    https://cran.r-project.org/src/contrib\n",
       "caret       6.0-86    3.6.3 6.0-88   https://cran.r-project.org/src/contrib\n",
       "class       7.3-15    3.6.0 7.3-19   https://cran.r-project.org/src/contrib\n",
       "cli         2.5.0     3.6.3 3.0.0    https://cran.r-project.org/src/contrib\n",
       "clipr       0.6.0     3.6.0 0.7.1    https://cran.r-project.org/src/contrib\n",
       "cluster     2.0.8     3.6.0 2.1.2    https://cran.r-project.org/src/contrib\n",
       "ClusterR    1.2.4     3.6.3 1.2.5    https://cran.r-project.org/src/contrib\n",
       "codetools   0.2-16    3.6.0 0.2-18   https://cran.r-project.org/src/contrib\n",
       "collapse    1.5.3     3.6.3 1.6.4    https://cran.r-project.org/src/contrib\n",
       "colorspace  1.4-1     3.6.0 2.0-2    https://cran.r-project.org/src/contrib\n",
       "coneproj    1.14      3.6.3 1.15     https://cran.r-project.org/src/contrib\n",
       "crayon      1.3.4     3.6.0 1.4.1    https://cran.r-project.org/src/contrib\n",
       "cubature    2.0.4.1   3.6.3 2.0.4.2  https://cran.r-project.org/src/contrib\n",
       "Cubist      0.2.40    3.6.3 0.3.0    https://cran.r-project.org/src/contrib\n",
       "curl        4.3.1     3.6.3 4.3.2    https://cran.r-project.org/src/contrib\n",
       "data.table  1.12.2    3.6.0 1.14.0   https://cran.r-project.org/src/contrib\n",
       "DBI         1.0.0     3.6.0 1.1.1    https://cran.r-project.org/src/contrib\n",
       "DescTools   0.99.41   3.6.3 0.99.42  https://cran.r-project.org/src/contrib\n",
       "...         ...       ...   ...      ...                                   \n",
       "styler      1.4.1     3.6.3 1.5.1    https://cran.r-project.org/src/contrib\n",
       "survival    2.44-1.1  3.6.0 3.2-11   https://cran.r-project.org/src/contrib\n",
       "sys         3.2       3.6.0 3.4      https://cran.r-project.org/src/contrib\n",
       "TAM         3.6-45    3.6.3 3.7-16   https://cran.r-project.org/src/contrib\n",
       "tergm       3.7.0     3.6.3 4.0.1    https://cran.r-project.org/src/contrib\n",
       "terra       1.2-5     3.6.3 1.3-4    https://cran.r-project.org/src/contrib\n",
       "testthat    3.0.2     3.6.3 3.0.4    https://cran.r-project.org/src/contrib\n",
       "tibble      3.1.1     3.6.3 3.1.2    https://cran.r-project.org/src/contrib\n",
       "tidyverse   1.2.1     3.6.0 1.3.1    https://cran.r-project.org/src/contrib\n",
       "timereg     1.9.8     3.6.3 2.0.0    https://cran.r-project.org/src/contrib\n",
       "tinytest    1.2.4     3.6.3 1.3.1    https://cran.r-project.org/src/contrib\n",
       "tinytex     0.12      3.6.0 0.32     https://cran.r-project.org/src/contrib\n",
       "TTR         0.23-4    3.6.0 0.24.2   https://cran.r-project.org/src/contrib\n",
       "udpipe      0.8.5     3.6.3 0.8.6    https://cran.r-project.org/src/contrib\n",
       "units       0.7-1     3.6.3 0.7-2    https://cran.r-project.org/src/contrib\n",
       "utf8        1.1.4     3.6.0 1.2.1    https://cran.r-project.org/src/contrib\n",
       "uuid        0.1-2     3.6.0 0.1-4    https://cran.r-project.org/src/contrib\n",
       "vcr         0.6.0     3.6.3 1.0.2    https://cran.r-project.org/src/contrib\n",
       "vdiffr      0.3.3     3.6.3 1.0.2    https://cran.r-project.org/src/contrib\n",
       "VGAMextra   0.0-4     3.6.3 0.0-5    https://cran.r-project.org/src/contrib\n",
       "VIM         5.1.1     3.6.3 6.1.0    https://cran.r-project.org/src/contrib\n",
       "weights     1.0.1     3.6.3 1.0.4    https://cran.r-project.org/src/contrib\n",
       "whisker     0.3-2     3.6.0 0.4      https://cran.r-project.org/src/contrib\n",
       "wk          0.4.1     3.6.3 0.5.0    https://cran.r-project.org/src/contrib\n",
       "WRS2        1.1-1     3.6.3 1.1-2    https://cran.r-project.org/src/contrib\n",
       "xfun        0.6       3.6.0 0.24     https://cran.r-project.org/src/contrib\n",
       "xml2        1.2.0     3.6.0 1.3.2    https://cran.r-project.org/src/contrib\n",
       "xts         0.11-2    3.6.0 0.12.1   https://cran.r-project.org/src/contrib\n",
       "yaml        2.2.0     3.6.0 2.2.1    https://cran.r-project.org/src/contrib\n",
       "zoo         1.8-5     3.6.0 1.8-9    https://cran.r-project.org/src/contrib"
      ]
     },
     "metadata": {},
     "output_type": "display_data"
    }
   ],
   "source": [
    "# DON'T DO IT AGAIN - ALMOST CRUSHED COMPUTER!!!\n",
    "old.packages()"
   ]
  },
  {
   "cell_type": "code",
   "execution_count": null,
   "id": "556191be",
   "metadata": {},
   "outputs": [
    {
     "name": "stderr",
     "output_type": "stream",
     "text": [
      "also installing the dependencies 'lmom', 'svd', 'fastmap', 'gargle', 'ids', 'httpcode', 'fauxpas', 'triebeard', 'rio', 'flexclust', 'additivityTests', 'lavaan', 'bayesplot', 'diagis', 'gld', 'gap', 'qgam', 'R62S3', 'set6', 'curry', 'Rdpack', 'trust', 'lpSolveAPI', 'rle', 'dreamerr', 'fracdiff', 'credentials', 'zip', 'DiceDesign', 'multicool', 'dcurver', 'RcppGSL', 'tiff', 'RItools', 'conquer', 'textshaping', 'DEoptimR', 'fastGHQuad', 'farver', 'segmented', 'qap', 'geometries', 'cachem', 'spatstat.sparse', 'tensor', 'spData', 'LearnBayes', 'R.cache', 'rematch2', 'googledrive', 'googlesheets4', 'crul', 'webmockr', 'urltools', 'car', 'laeken'\n",
      "\n"
     ]
    },
    {
     "name": "stdout",
     "output_type": "stream",
     "text": [
      "\n",
      "  There are binary versions available but the source versions are later:\n",
      "                    binary     source needs_compilation\n",
      "gargle               1.1.0      1.2.0             FALSE\n",
      "rio                 0.5.26     0.5.27             FALSE\n",
      "lavaan               0.6-8      0.6-9             FALSE\n",
      "bayesplot            1.8.0      1.8.1             FALSE\n",
      "Rdpack               2.1.1      2.1.2             FALSE\n",
      "zip                  2.1.1      2.2.0              TRUE\n",
      "multicool           0.1-11     0.1-12              TRUE\n",
      "RcppGSL              0.3.8      0.3.9              TRUE\n",
      "textshaping          0.3.4      0.3.5              TRUE\n",
      "DEoptimR             1.0-8      1.0-9             FALSE\n",
      "cachem               1.0.4      1.0.5              TRUE\n",
      "spData               0.3.8     0.3.10             FALSE\n",
      "googledrive          1.0.1      2.0.0             FALSE\n",
      "car                 3.0-10     3.0-11             FALSE\n",
      "ade4                1.7-16     1.7-17              TRUE\n",
      "Amelia               1.7.6      1.8.0              TRUE\n",
      "arrow                4.0.0      4.0.1              TRUE\n",
      "arules               1.6-7      1.6-8              TRUE\n",
      "biclust              2.0.2      2.0.3              TRUE\n",
      "blavaan             0.3-15     0.3-16              TRUE\n",
      "broom                0.7.6      0.7.8             FALSE\n",
      "broom.mixed          0.2.6      0.2.7             FALSE\n",
      "bssm                 1.1.4      1.1.5              TRUE\n",
      "C50                0.1.3.1      0.1.5              TRUE\n",
      "caret               6.0-86     6.0-88              TRUE\n",
      "cli                  2.5.0      3.0.0              TRUE\n",
      "ClusterR             1.2.4      1.2.5              TRUE\n",
      "collapse             1.5.3      1.6.4              TRUE\n",
      "colorspace           2.0-1      2.0-2              TRUE\n",
      "coneproj              1.14       1.15              TRUE\n",
      "cubature           2.0.4.1    2.0.4.2              TRUE\n",
      "Cubist              0.2.40      0.3.0              TRUE\n",
      "curl                 4.3.1      4.3.2              TRUE\n",
      "DescTools          0.99.41    0.99.42              TRUE\n",
      "DHARMa               0.4.1      0.4.3             FALSE\n",
      "distr6               1.5.2      1.5.4              TRUE\n",
      "doBy                4.6.10     4.6.11             FALSE\n",
      "dplyr                1.0.6      1.0.7              TRUE\n",
      "e1071                1.7-6      1.7-7              TRUE\n",
      "eaf                  1.9-1        2.1              TRUE\n",
      "emmeans              1.6.0    1.6.2-1             FALSE\n",
      "ergm                3.11.0      4.0.1              TRUE\n",
      "ergm.count           3.4.0      4.0.2              TRUE\n",
      "fansi                0.4.2      0.5.0              TRUE\n",
      "fields                11.6       12.5              TRUE\n",
      "fixest               0.8.4      0.9.0              TRUE\n",
      "forecast              8.14       8.15              TRUE\n",
      "formatR                1.9       1.11             FALSE\n",
      "gam                 1.16.1       1.20              TRUE\n",
      "gert                 1.3.0      1.3.1              TRUE\n",
      "ggfortify           0.4.11     0.4.12             FALSE\n",
      "GLMMadaptive         0.8-0      0.8-2             FALSE\n",
      "glmnet               4.1-1      4.1-2              TRUE\n",
      "GPareto            1.1.4.1      1.1.6              TRUE\n",
      "gtools               3.8.2      3.9.2              TRUE\n",
      "hms                  1.0.0      1.1.0             FALSE\n",
      "huge               1.3.4.1      1.3.5              TRUE\n",
      "isoband              0.2.4      0.2.5              TRUE\n",
      "JuliaCall           0.17.2     0.17.4              TRUE\n",
      "KFAS                 1.4.5      1.4.6              TRUE\n",
      "ks                  1.12.0     1.13.2              TRUE\n",
      "LaplacesDemon       16.1.4     16.1.6             FALSE\n",
      "lme4                1.1-26   1.1-27.1              TRUE\n",
      "logger               0.2.0      0.2.1             FALSE\n",
      "LogicReg             1.6.2      1.6.4              TRUE\n",
      "Matrix               1.3-3      1.3-4              TRUE\n",
      "matrixStats         0.58.0     0.59.0              TRUE\n",
      "mc2d                0.1-19     0.1-21             FALSE\n",
      "mgcv                1.8-35     1.8-36              TRUE\n",
      "mime                  0.10       0.11              TRUE\n",
      "mirt                1.33.2       1.34              TRUE\n",
      "mirtCAT               1.10       1.11              TRUE\n",
      "modeldata            0.1.0      0.1.1             FALSE\n",
      "mRMRe                2.1.0      2.1.1              TRUE\n",
      "mvabund              4.1.9     4.1.12              TRUE\n",
      "mvtnorm              1.1-1      1.1-2              TRUE\n",
      "network             1.16.1     1.17.1              TRUE\n",
      "networkDynamic      0.10.1     0.11.0              TRUE\n",
      "nimble              0.11.0     0.11.1              TRUE\n",
      "np                 0.60-10    0.60-11              TRUE\n",
      "OpenImageR           1.1.8      1.1.9              TRUE\n",
      "OpenMx              2.19.5     2.19.6              TRUE\n",
      "openxlsx             4.2.3      4.2.4              TRUE\n",
      "optmatch            0.9-13     0.9-14              TRUE\n",
      "pander               0.6.3      0.6.4              TRUE\n",
      "phangorn             2.7.0      2.7.1              TRUE\n",
      "pre                  1.0.0      1.0.1             FALSE\n",
      "proxy               0.4-25     0.4-26              TRUE\n",
      "psychotools          0.6-0      0.6-1              TRUE\n",
      "quantreg              5.85       5.86              TRUE\n",
      "ragg                 1.1.2      1.1.3              TRUE\n",
      "randomForestSRC     2.11.0     2.12.0              TRUE\n",
      "ranger              0.12.1     0.13.1              TRUE\n",
      "raster              3.4-10     3.4-13              TRUE\n",
      "rbibutils            2.1.1      2.2.1              TRUE\n",
      "Rcpp                 1.0.6      1.0.7              TRUE\n",
      "RcppArmadillo   0.10.4.0.0 0.10.5.0.0              TRUE\n",
      "relsurv              2.2-3      2.2-5              TRUE\n",
      "rmarkdown              2.8        2.9             FALSE\n",
      "Rmpfr                0.8-1      0.8-4              TRUE\n",
      "RMySQL             0.10.21    0.10.22              TRUE\n",
      "robustbase          0.93-6     0.93-8              TRUE\n",
      "robustlmm            2.4-3      2.4-4              TRUE\n",
      "rootSolve          1.8.2.1    1.8.2.2              TRUE\n",
      "round               0.12-2     0.20-0              TRUE\n",
      "RPostgres            1.3.2      1.3.3              TRUE\n",
      "s2                   1.0.4      1.0.6              TRUE\n",
      "semTools             0.5-4      0.5-5             FALSE\n",
      "seqinr               4.2-5      4.2-8              TRUE\n",
      "seriation            1.2-9      1.3.0              TRUE\n",
      "sf                   0.9-8      1.0-1              TRUE\n",
      "sfheaders            0.3.0      0.4.0              TRUE\n",
      "slackr               2.3.0      2.4.1             FALSE\n",
      "spam                 2.6-0      2.7-0              TRUE\n",
      "spam64               2.6-0      2.7-0              TRUE\n",
      "spaMM               3.7.34      3.8.9              TRUE\n",
      "spatstat             2.1-0      2.2-0              TRUE\n",
      "spatstat.core        2.1-2      2.2-0              TRUE\n",
      "spatstat.geom        2.1-0      2.2-2              TRUE\n",
      "spatstat.linnet      2.1-1      2.2-1              TRUE\n",
      "spatstat.utils       2.1-0      2.2-0              TRUE\n",
      "spdep                1.1-7      1.1-8              TRUE\n",
      "statnet.common       4.4.1      4.5.0              TRUE\n",
      "stringi              1.6.1      1.7.2              TRUE\n",
      "styler               1.4.1      1.5.1             FALSE\n",
      "TAM                 3.6-45     3.7-16              TRUE\n",
      "tergm                3.7.0      4.0.1              TRUE\n",
      "terra                1.2-5      1.3-4              TRUE\n",
      "testthat             3.0.2      3.0.4              TRUE\n",
      "tibble               3.1.1      3.1.2              TRUE\n",
      "timereg              1.9.8      2.0.0              TRUE\n",
      "tinytest             1.2.4      1.3.1             FALSE\n",
      "tinytex               0.31       0.32             FALSE\n",
      "udpipe               0.8.5      0.8.6              TRUE\n",
      "units                0.7-1      0.7-2              TRUE\n",
      "vcr                  0.6.0      1.0.2              TRUE\n",
      "vdiffr               0.3.3      1.0.2              TRUE\n",
      "VGAMextra            0.0-4      0.0-5              TRUE\n",
      "VIM                  5.1.1      6.1.0              TRUE\n",
      "weights              1.0.1      1.0.4              TRUE\n",
      "wk                   0.4.1      0.5.0              TRUE\n",
      "WRS2                 1.1-1      1.1-2              TRUE\n",
      "xfun                  0.22       0.24              TRUE\n",
      "\n",
      "  Binaries will be installed\n"
     ]
    },
    {
     "name": "stderr",
     "output_type": "stream",
     "text": [
      "Warning message:\n",
      "\"packages 'dplyr', 'lubridate', 'purrr' are in use and will not be installed\""
     ]
    },
    {
     "name": "stdout",
     "output_type": "stream",
     "text": [
      "package 'lmom' successfully unpacked and MD5 sums checked\n",
      "package 'svd' successfully unpacked and MD5 sums checked\n",
      "package 'fastmap' successfully unpacked and MD5 sums checked\n",
      "package 'ids' successfully unpacked and MD5 sums checked\n",
      "package 'httpcode' successfully unpacked and MD5 sums checked\n",
      "package 'fauxpas' successfully unpacked and MD5 sums checked\n",
      "package 'triebeard' successfully unpacked and MD5 sums checked\n",
      "package 'flexclust' successfully unpacked and MD5 sums checked\n",
      "package 'additivityTests' successfully unpacked and MD5 sums checked\n",
      "package 'diagis' successfully unpacked and MD5 sums checked\n",
      "package 'gld' successfully unpacked and MD5 sums checked\n",
      "package 'gap' successfully unpacked and MD5 sums checked\n",
      "package 'qgam' successfully unpacked and MD5 sums checked\n",
      "package 'R62S3' successfully unpacked and MD5 sums checked\n",
      "package 'set6' successfully unpacked and MD5 sums checked\n",
      "package 'curry' successfully unpacked and MD5 sums checked\n",
      "package 'trust' successfully unpacked and MD5 sums checked\n",
      "package 'lpSolveAPI' successfully unpacked and MD5 sums checked\n",
      "package 'rle' successfully unpacked and MD5 sums checked\n",
      "package 'dreamerr' successfully unpacked and MD5 sums checked\n",
      "package 'fracdiff' successfully unpacked and MD5 sums checked\n",
      "package 'credentials' successfully unpacked and MD5 sums checked\n",
      "package 'zip' successfully unpacked and MD5 sums checked\n",
      "package 'DiceDesign' successfully unpacked and MD5 sums checked\n",
      "package 'multicool' successfully unpacked and MD5 sums checked\n",
      "package 'dcurver' successfully unpacked and MD5 sums checked\n",
      "package 'RcppGSL' successfully unpacked and MD5 sums checked\n",
      "package 'tiff' successfully unpacked and MD5 sums checked\n",
      "package 'RItools' successfully unpacked and MD5 sums checked\n",
      "package 'conquer' successfully unpacked and MD5 sums checked\n",
      "package 'textshaping' successfully unpacked and MD5 sums checked\n",
      "package 'fastGHQuad' successfully unpacked and MD5 sums checked\n",
      "package 'farver' successfully unpacked and MD5 sums checked\n",
      "package 'segmented' successfully unpacked and MD5 sums checked\n",
      "package 'qap' successfully unpacked and MD5 sums checked\n",
      "package 'geometries' successfully unpacked and MD5 sums checked\n",
      "package 'cachem' successfully unpacked and MD5 sums checked\n",
      "package 'spatstat.sparse' successfully unpacked and MD5 sums checked\n",
      "package 'tensor' successfully unpacked and MD5 sums checked\n",
      "package 'LearnBayes' successfully unpacked and MD5 sums checked\n",
      "package 'R.cache' successfully unpacked and MD5 sums checked\n",
      "package 'rematch2' successfully unpacked and MD5 sums checked\n",
      "package 'googlesheets4' successfully unpacked and MD5 sums checked\n",
      "package 'crul' successfully unpacked and MD5 sums checked\n",
      "package 'webmockr' successfully unpacked and MD5 sums checked\n",
      "package 'urltools' successfully unpacked and MD5 sums checked\n",
      "package 'laeken' successfully unpacked and MD5 sums checked\n",
      "package 'ade4' successfully unpacked and MD5 sums checked\n",
      "package 'Amelia' successfully unpacked and MD5 sums checked\n",
      "package 'arrow' successfully unpacked and MD5 sums checked\n",
      "package 'arules' successfully unpacked and MD5 sums checked\n",
      "package 'askpass' successfully unpacked and MD5 sums checked\n",
      "package 'backports' successfully unpacked and MD5 sums checked\n",
      "package 'biclust' successfully unpacked and MD5 sums checked\n",
      "package 'blavaan' successfully unpacked and MD5 sums checked\n",
      "package 'boot' successfully unpacked and MD5 sums checked\n",
      "package 'bssm' successfully unpacked and MD5 sums checked\n",
      "package 'C50' successfully unpacked and MD5 sums checked\n",
      "package 'caret' successfully unpacked and MD5 sums checked\n",
      "package 'class' successfully unpacked and MD5 sums checked\n",
      "package 'cli' successfully unpacked and MD5 sums checked\n",
      "package 'clipr' successfully unpacked and MD5 sums checked\n",
      "package 'cluster' successfully unpacked and MD5 sums checked\n",
      "package 'ClusterR' successfully unpacked and MD5 sums checked\n",
      "package 'codetools' successfully unpacked and MD5 sums checked\n",
      "package 'collapse' successfully unpacked and MD5 sums checked\n",
      "package 'colorspace' successfully unpacked and MD5 sums checked\n"
     ]
    },
    {
     "name": "stderr",
     "output_type": "stream",
     "text": [
      "Warning message:\n",
      "\"cannot remove prior installation of package 'colorspace'\"Warning message in file.copy(savedcopy, lib, recursive = TRUE):\n",
      "\"problem copying C:\\Users\\asus\\anaconda3\\envs\\r-tutorial\\Lib\\R\\library\\00LOCK\\colorspace\\libs\\x64\\colorspace.dll to C:\\Users\\asus\\anaconda3\\envs\\r-tutorial\\Lib\\R\\library\\colorspace\\libs\\x64\\colorspace.dll: Permission denied\"Warning message:\n",
      "\"restored 'colorspace'\""
     ]
    },
    {
     "name": "stdout",
     "output_type": "stream",
     "text": [
      "package 'coneproj' successfully unpacked and MD5 sums checked\n",
      "package 'crayon' successfully unpacked and MD5 sums checked\n",
      "package 'cubature' successfully unpacked and MD5 sums checked\n",
      "package 'Cubist' successfully unpacked and MD5 sums checked\n",
      "package 'curl' successfully unpacked and MD5 sums checked\n",
      "package 'data.table' successfully unpacked and MD5 sums checked\n",
      "package 'DBI' successfully unpacked and MD5 sums checked\n",
      "package 'DescTools' successfully unpacked and MD5 sums checked\n",
      "package 'digest' successfully unpacked and MD5 sums checked\n"
     ]
    },
    {
     "name": "stderr",
     "output_type": "stream",
     "text": [
      "Warning message:\n",
      "\"cannot remove prior installation of package 'digest'\"Warning message in file.copy(savedcopy, lib, recursive = TRUE):\n",
      "\"problem copying C:\\Users\\asus\\anaconda3\\envs\\r-tutorial\\Lib\\R\\library\\00LOCK\\digest\\libs\\x64\\digest.dll to C:\\Users\\asus\\anaconda3\\envs\\r-tutorial\\Lib\\R\\library\\digest\\libs\\x64\\digest.dll: Permission denied\"Warning message:\n",
      "\"restored 'digest'\""
     ]
    },
    {
     "name": "stdout",
     "output_type": "stream",
     "text": [
      "package 'distr6' successfully unpacked and MD5 sums checked\n",
      "package 'e1071' successfully unpacked and MD5 sums checked\n",
      "package 'eaf' successfully unpacked and MD5 sums checked\n",
      "package 'ergm' successfully unpacked and MD5 sums checked\n",
      "package 'ergm.count' successfully unpacked and MD5 sums checked\n",
      "package 'evaluate' successfully unpacked and MD5 sums checked\n",
      "package 'fansi' successfully unpacked and MD5 sums checked\n"
     ]
    },
    {
     "name": "stderr",
     "output_type": "stream",
     "text": [
      "Warning message:\n",
      "\"cannot remove prior installation of package 'fansi'\"Warning message in file.copy(savedcopy, lib, recursive = TRUE):\n",
      "\"problem copying C:\\Users\\asus\\anaconda3\\envs\\r-tutorial\\Lib\\R\\library\\00LOCK\\fansi\\libs\\x64\\fansi.dll to C:\\Users\\asus\\anaconda3\\envs\\r-tutorial\\Lib\\R\\library\\fansi\\libs\\x64\\fansi.dll: Permission denied\"Warning message:\n",
      "\"restored 'fansi'\""
     ]
    },
    {
     "name": "stdout",
     "output_type": "stream",
     "text": [
      "package 'fields' successfully unpacked and MD5 sums checked\n",
      "package 'fixest' successfully unpacked and MD5 sums checked\n",
      "package 'forcats' successfully unpacked and MD5 sums checked\n",
      "package 'forecast' successfully unpacked and MD5 sums checked\n",
      "package 'fs' successfully unpacked and MD5 sums checked\n",
      "package 'gam' successfully unpacked and MD5 sums checked\n",
      "package 'gert' successfully unpacked and MD5 sums checked\n",
      "package 'glmnet' successfully unpacked and MD5 sums checked\n",
      "package 'gower' successfully unpacked and MD5 sums checked\n",
      "package 'GPareto' successfully unpacked and MD5 sums checked\n",
      "package 'gtools' successfully unpacked and MD5 sums checked\n",
      "package 'haven' successfully unpacked and MD5 sums checked\n",
      "package 'hexbin' successfully unpacked and MD5 sums checked\n",
      "package 'highr' successfully unpacked and MD5 sums checked\n",
      "package 'htmltools' successfully unpacked and MD5 sums checked\n"
     ]
    },
    {
     "name": "stderr",
     "output_type": "stream",
     "text": [
      "Warning message:\n",
      "\"cannot remove prior installation of package 'htmltools'\"Warning message in file.copy(savedcopy, lib, recursive = TRUE):\n",
      "\"problem copying C:\\Users\\asus\\anaconda3\\envs\\r-tutorial\\Lib\\R\\library\\00LOCK\\htmltools\\libs\\x64\\htmltools.dll to C:\\Users\\asus\\anaconda3\\envs\\r-tutorial\\Lib\\R\\library\\htmltools\\libs\\x64\\htmltools.dll: Permission denied\"Warning message:\n",
      "\"restored 'htmltools'\""
     ]
    },
    {
     "name": "stdout",
     "output_type": "stream",
     "text": [
      "package 'htmlwidgets' successfully unpacked and MD5 sums checked\n",
      "package 'httpuv' successfully unpacked and MD5 sums checked\n",
      "package 'httr' successfully unpacked and MD5 sums checked\n",
      "package 'huge' successfully unpacked and MD5 sums checked\n",
      "package 'ipred' successfully unpacked and MD5 sums checked\n",
      "package 'IRdisplay' successfully unpacked and MD5 sums checked\n",
      "package 'IRkernel' successfully unpacked and MD5 sums checked\n",
      "package 'isoband' successfully unpacked and MD5 sums checked\n",
      "package 'iterators' successfully unpacked and MD5 sums checked\n",
      "package 'jsonlite' successfully unpacked and MD5 sums checked\n"
     ]
    },
    {
     "name": "stderr",
     "output_type": "stream",
     "text": [
      "Warning message:\n",
      "\"cannot remove prior installation of package 'jsonlite'\"Warning message in file.copy(savedcopy, lib, recursive = TRUE):\n",
      "\"problem copying C:\\Users\\asus\\anaconda3\\envs\\r-tutorial\\Lib\\R\\library\\00LOCK\\jsonlite\\libs\\x64\\jsonlite.dll to C:\\Users\\asus\\anaconda3\\envs\\r-tutorial\\Lib\\R\\library\\jsonlite\\libs\\x64\\jsonlite.dll: Permission denied\"Warning message:\n",
      "\"restored 'jsonlite'\""
     ]
    },
    {
     "name": "stdout",
     "output_type": "stream",
     "text": [
      "package 'JuliaCall' successfully unpacked and MD5 sums checked\n",
      "package 'KernSmooth' successfully unpacked and MD5 sums checked\n",
      "package 'KFAS' successfully unpacked and MD5 sums checked\n",
      "package 'ks' successfully unpacked and MD5 sums checked\n",
      "package 'labeling' successfully unpacked and MD5 sums checked\n",
      "package 'later' successfully unpacked and MD5 sums checked\n",
      "package 'lattice' successfully unpacked and MD5 sums checked\n"
     ]
    },
    {
     "name": "stderr",
     "output_type": "stream",
     "text": [
      "Warning message:\n",
      "\"cannot remove prior installation of package 'lattice'\"Warning message in file.copy(savedcopy, lib, recursive = TRUE):\n",
      "\"problem copying C:\\Users\\asus\\anaconda3\\envs\\r-tutorial\\Lib\\R\\library\\00LOCK\\lattice\\libs\\x64\\lattice.dll to C:\\Users\\asus\\anaconda3\\envs\\r-tutorial\\Lib\\R\\library\\lattice\\libs\\x64\\lattice.dll: Permission denied\"Warning message:\n",
      "\"restored 'lattice'\""
     ]
    },
    {
     "name": "stdout",
     "output_type": "stream",
     "text": [
      "package 'lme4' successfully unpacked and MD5 sums checked\n",
      "package 'LogicReg' successfully unpacked and MD5 sums checked\n",
      "package 'markdown' successfully unpacked and MD5 sums checked\n",
      "package 'MASS' successfully unpacked and MD5 sums checked\n"
     ]
    },
    {
     "name": "stderr",
     "output_type": "stream",
     "text": [
      "Warning message:\n",
      "\"cannot remove prior installation of package 'MASS'\"Warning message in file.copy(savedcopy, lib, recursive = TRUE):\n",
      "\"problem copying C:\\Users\\asus\\anaconda3\\envs\\r-tutorial\\Lib\\R\\library\\00LOCK\\MASS\\libs\\x64\\MASS.dll to C:\\Users\\asus\\anaconda3\\envs\\r-tutorial\\Lib\\R\\library\\MASS\\libs\\x64\\MASS.dll: Permission denied\"Warning message:\n",
      "\"restored 'MASS'\""
     ]
    },
    {
     "name": "stdout",
     "output_type": "stream",
     "text": [
      "package 'Matrix' successfully unpacked and MD5 sums checked\n"
     ]
    },
    {
     "name": "stderr",
     "output_type": "stream",
     "text": [
      "Warning message:\n",
      "\"cannot remove prior installation of package 'Matrix'\"Warning message in file.copy(savedcopy, lib, recursive = TRUE):\n",
      "\"problem copying C:\\Users\\asus\\anaconda3\\envs\\r-tutorial\\Lib\\R\\library\\00LOCK\\Matrix\\libs\\x64\\Matrix.dll to C:\\Users\\asus\\anaconda3\\envs\\r-tutorial\\Lib\\R\\library\\Matrix\\libs\\x64\\Matrix.dll: Permission denied\"Warning message:\n",
      "\"restored 'Matrix'\""
     ]
    },
    {
     "name": "stdout",
     "output_type": "stream",
     "text": [
      "package 'matrixStats' successfully unpacked and MD5 sums checked\n",
      "package 'mgcv' successfully unpacked and MD5 sums checked\n",
      "package 'mime' successfully unpacked and MD5 sums checked\n",
      "package 'mirt' successfully unpacked and MD5 sums checked\n",
      "package 'mirtCAT' successfully unpacked and MD5 sums checked\n",
      "package 'modelr' successfully unpacked and MD5 sums checked\n",
      "package 'mRMRe' successfully unpacked and MD5 sums checked\n",
      "package 'mvabund' successfully unpacked and MD5 sums checked\n",
      "package 'mvtnorm' successfully unpacked and MD5 sums checked\n",
      "package 'network' successfully unpacked and MD5 sums checked\n",
      "package 'networkDynamic' successfully unpacked and MD5 sums checked\n",
      "package 'nimble' successfully unpacked and MD5 sums checked\n",
      "package 'nlme' successfully unpacked and MD5 sums checked\n"
     ]
    },
    {
     "name": "stderr",
     "output_type": "stream",
     "text": [
      "Warning message:\n",
      "\"cannot remove prior installation of package 'nlme'\"Warning message in file.copy(savedcopy, lib, recursive = TRUE):\n",
      "\"problem copying C:\\Users\\asus\\anaconda3\\envs\\r-tutorial\\Lib\\R\\library\\00LOCK\\nlme\\libs\\x64\\nlme.dll to C:\\Users\\asus\\anaconda3\\envs\\r-tutorial\\Lib\\R\\library\\nlme\\libs\\x64\\nlme.dll: Permission denied\"Warning message:\n",
      "\"restored 'nlme'\""
     ]
    },
    {
     "name": "stdout",
     "output_type": "stream",
     "text": [
      "package 'nnet' successfully unpacked and MD5 sums checked\n",
      "package 'np' successfully unpacked and MD5 sums checked\n",
      "package 'numDeriv' successfully unpacked and MD5 sums checked\n",
      "package 'OpenImageR' successfully unpacked and MD5 sums checked\n",
      "package 'OpenMx' successfully unpacked and MD5 sums checked\n",
      "package 'openssl' successfully unpacked and MD5 sums checked\n",
      "package 'openxlsx' successfully unpacked and MD5 sums checked\n",
      "package 'optmatch' successfully unpacked and MD5 sums checked\n",
      "package 'pander' successfully unpacked and MD5 sums checked\n",
      "package 'pbdZMQ' successfully unpacked and MD5 sums checked\n"
     ]
    },
    {
     "name": "stderr",
     "output_type": "stream",
     "text": [
      "Warning message:\n",
      "\"cannot remove prior installation of package 'pbdZMQ'\"Warning message in file.copy(savedcopy, lib, recursive = TRUE):\n",
      "\"problem copying C:\\Users\\asus\\anaconda3\\envs\\r-tutorial\\Lib\\R\\library\\00LOCK\\pbdZMQ\\libs\\x64\\libzmq.dll to C:\\Users\\asus\\anaconda3\\envs\\r-tutorial\\Lib\\R\\library\\pbdZMQ\\libs\\x64\\libzmq.dll: Permission denied\"Warning message in file.copy(savedcopy, lib, recursive = TRUE):\n",
      "\"problem copying C:\\Users\\asus\\anaconda3\\envs\\r-tutorial\\Lib\\R\\library\\00LOCK\\pbdZMQ\\libs\\x64\\pbdZMQ.dll to C:\\Users\\asus\\anaconda3\\envs\\r-tutorial\\Lib\\R\\library\\pbdZMQ\\libs\\x64\\pbdZMQ.dll: Permission denied\"Warning message:\n",
      "\"restored 'pbdZMQ'\""
     ]
    },
    {
     "name": "stdout",
     "output_type": "stream",
     "text": [
      "package 'phangorn' successfully unpacked and MD5 sums checked\n",
      "package 'pkgconfig' successfully unpacked and MD5 sums checked\n",
      "package 'plyr' successfully unpacked and MD5 sums checked\n"
     ]
    },
    {
     "name": "stderr",
     "output_type": "stream",
     "text": [
      "Warning message:\n",
      "\"cannot remove prior installation of package 'plyr'\"Warning message in file.copy(savedcopy, lib, recursive = TRUE):\n",
      "\"problem copying C:\\Users\\asus\\anaconda3\\envs\\r-tutorial\\Lib\\R\\library\\00LOCK\\plyr\\libs\\x64\\plyr.dll to C:\\Users\\asus\\anaconda3\\envs\\r-tutorial\\Lib\\R\\library\\plyr\\libs\\x64\\plyr.dll: Permission denied\"Warning message:\n",
      "\"restored 'plyr'\""
     ]
    },
    {
     "name": "stdout",
     "output_type": "stream",
     "text": [
      "package 'prettyunits' successfully unpacked and MD5 sums checked\n",
      "package 'prodlim' successfully unpacked and MD5 sums checked\n",
      "package 'progress' successfully unpacked and MD5 sums checked\n",
      "package 'promises' successfully unpacked and MD5 sums checked\n",
      "package 'proxy' successfully unpacked and MD5 sums checked\n",
      "package 'psychotools' successfully unpacked and MD5 sums checked\n",
      "package 'quantmod' successfully unpacked and MD5 sums checked\n",
      "package 'quantreg' successfully unpacked and MD5 sums checked\n",
      "package 'R6' successfully unpacked and MD5 sums checked\n",
      "package 'ragg' successfully unpacked and MD5 sums checked\n",
      "package 'randomForestSRC' successfully unpacked and MD5 sums checked\n",
      "package 'ranger' successfully unpacked and MD5 sums checked\n",
      "package 'raster' successfully unpacked and MD5 sums checked\n",
      "package 'rbibutils' successfully unpacked and MD5 sums checked\n",
      "package 'Rcpp' successfully unpacked and MD5 sums checked\n"
     ]
    },
    {
     "name": "stderr",
     "output_type": "stream",
     "text": [
      "Warning message:\n",
      "\"cannot remove prior installation of package 'Rcpp'\"Warning message in file.copy(savedcopy, lib, recursive = TRUE):\n",
      "\"problem copying C:\\Users\\asus\\anaconda3\\envs\\r-tutorial\\Lib\\R\\library\\00LOCK\\Rcpp\\libs\\x64\\Rcpp.dll to C:\\Users\\asus\\anaconda3\\envs\\r-tutorial\\Lib\\R\\library\\Rcpp\\libs\\x64\\Rcpp.dll: Permission denied\"Warning message:\n",
      "\"restored 'Rcpp'\""
     ]
    },
    {
     "name": "stdout",
     "output_type": "stream",
     "text": [
      "package 'RcppArmadillo' successfully unpacked and MD5 sums checked\n",
      "package 'readr' successfully unpacked and MD5 sums checked\n",
      "package 'relsurv' successfully unpacked and MD5 sums checked\n",
      "package 'repr' successfully unpacked and MD5 sums checked\n",
      "package 'reprex' successfully unpacked and MD5 sums checked\n",
      "package 'reshape2' successfully unpacked and MD5 sums checked\n",
      "package 'Rmpfr' successfully unpacked and MD5 sums checked\n",
      "package 'RMySQL' successfully unpacked and MD5 sums checked\n",
      "package 'robustbase' successfully unpacked and MD5 sums checked\n",
      "package 'robustlmm' successfully unpacked and MD5 sums checked\n",
      "package 'rootSolve' successfully unpacked and MD5 sums checked\n",
      "package 'round' successfully unpacked and MD5 sums checked\n",
      "package 'RPostgres' successfully unpacked and MD5 sums checked\n",
      "package 'rstudioapi' successfully unpacked and MD5 sums checked\n",
      "package 'rvest' successfully unpacked and MD5 sums checked\n",
      "package 's2' successfully unpacked and MD5 sums checked\n",
      "package 'scales' successfully unpacked and MD5 sums checked\n"
     ]
    },
    {
     "name": "stderr",
     "output_type": "stream",
     "text": [
      "Warning message:\n",
      "\"cannot remove prior installation of package 'scales'\"Warning message in file.copy(savedcopy, lib, recursive = TRUE):\n",
      "\"problem copying C:\\Users\\asus\\anaconda3\\envs\\r-tutorial\\Lib\\R\\library\\00LOCK\\scales\\libs\\x64\\scales.dll to C:\\Users\\asus\\anaconda3\\envs\\r-tutorial\\Lib\\R\\library\\scales\\libs\\x64\\scales.dll: Permission denied\"Warning message:\n",
      "\"restored 'scales'\""
     ]
    },
    {
     "name": "stdout",
     "output_type": "stream",
     "text": [
      "package 'selectr' successfully unpacked and MD5 sums checked\n",
      "package 'seqinr' successfully unpacked and MD5 sums checked\n",
      "package 'seriation' successfully unpacked and MD5 sums checked\n",
      "package 'sf' successfully unpacked and MD5 sums checked\n",
      "package 'sfheaders' successfully unpacked and MD5 sums checked\n",
      "package 'spam' successfully unpacked and MD5 sums checked\n",
      "package 'spam64' successfully unpacked and MD5 sums checked\n",
      "package 'spaMM' successfully unpacked and MD5 sums checked\n",
      "package 'spatial' successfully unpacked and MD5 sums checked\n",
      "package 'spatstat' successfully unpacked and MD5 sums checked\n",
      "package 'spatstat.core' successfully unpacked and MD5 sums checked\n",
      "package 'spatstat.geom' successfully unpacked and MD5 sums checked\n",
      "package 'spatstat.linnet' successfully unpacked and MD5 sums checked\n",
      "package 'spatstat.utils' successfully unpacked and MD5 sums checked\n",
      "package 'spdep' successfully unpacked and MD5 sums checked\n",
      "package 'SQUAREM' successfully unpacked and MD5 sums checked\n",
      "package 'statnet.common' successfully unpacked and MD5 sums checked\n",
      "package 'stringi' successfully unpacked and MD5 sums checked\n"
     ]
    },
    {
     "name": "stderr",
     "output_type": "stream",
     "text": [
      "Warning message:\n",
      "\"cannot remove prior installation of package 'stringi'\"Warning message in file.copy(savedcopy, lib, recursive = TRUE):\n",
      "\"problem copying C:\\Users\\asus\\anaconda3\\envs\\r-tutorial\\Lib\\R\\library\\00LOCK\\stringi\\libs\\icudt61l.dat to C:\\Users\\asus\\anaconda3\\envs\\r-tutorial\\Lib\\R\\library\\stringi\\libs\\icudt61l.dat: Invalid argument\"Warning message in file.copy(savedcopy, lib, recursive = TRUE):\n",
      "\"problem copying C:\\Users\\asus\\anaconda3\\envs\\r-tutorial\\Lib\\R\\library\\00LOCK\\stringi\\libs\\x64\\stringi.dll to C:\\Users\\asus\\anaconda3\\envs\\r-tutorial\\Lib\\R\\library\\stringi\\libs\\x64\\stringi.dll: Permission denied\"Warning message:\n",
      "\"restored 'stringi'\""
     ]
    },
    {
     "name": "stdout",
     "output_type": "stream",
     "text": [
      "package 'survival' successfully unpacked and MD5 sums checked\n"
     ]
    },
    {
     "name": "stderr",
     "output_type": "stream",
     "text": [
      "Warning message:\n",
      "\"cannot remove prior installation of package 'survival'\"Warning message in file.copy(savedcopy, lib, recursive = TRUE):\n",
      "\"problem copying C:\\Users\\asus\\anaconda3\\envs\\r-tutorial\\Lib\\R\\library\\00LOCK\\survival\\libs\\x64\\survival.dll to C:\\Users\\asus\\anaconda3\\envs\\r-tutorial\\Lib\\R\\library\\survival\\libs\\x64\\survival.dll: Permission denied\"Warning message:\n",
      "\"restored 'survival'\""
     ]
    },
    {
     "name": "stdout",
     "output_type": "stream",
     "text": [
      "package 'sys' successfully unpacked and MD5 sums checked\n",
      "package 'TAM' successfully unpacked and MD5 sums checked\n",
      "package 'tergm' successfully unpacked and MD5 sums checked\n",
      "package 'terra' successfully unpacked and MD5 sums checked\n",
      "package 'testthat' successfully unpacked and MD5 sums checked\n",
      "package 'tibble' successfully unpacked and MD5 sums checked\n"
     ]
    },
    {
     "name": "stderr",
     "output_type": "stream",
     "text": [
      "Warning message:\n",
      "\"cannot remove prior installation of package 'tibble'\"Warning message in file.copy(savedcopy, lib, recursive = TRUE):\n",
      "\"problem copying C:\\Users\\asus\\anaconda3\\envs\\r-tutorial\\Lib\\R\\library\\00LOCK\\tibble\\libs\\x64\\tibble.dll to C:\\Users\\asus\\anaconda3\\envs\\r-tutorial\\Lib\\R\\library\\tibble\\libs\\x64\\tibble.dll: Permission denied\"Warning message:\n",
      "\"restored 'tibble'\""
     ]
    },
    {
     "name": "stdout",
     "output_type": "stream",
     "text": [
      "package 'tidyverse' successfully unpacked and MD5 sums checked\n",
      "package 'timereg' successfully unpacked and MD5 sums checked\n",
      "package 'TTR' successfully unpacked and MD5 sums checked\n",
      "package 'udpipe' successfully unpacked and MD5 sums checked\n",
      "package 'units' successfully unpacked and MD5 sums checked\n",
      "package 'utf8' successfully unpacked and MD5 sums checked\n"
     ]
    },
    {
     "name": "stderr",
     "output_type": "stream",
     "text": [
      "Warning message:\n",
      "\"cannot remove prior installation of package 'utf8'\"Warning message in file.copy(savedcopy, lib, recursive = TRUE):\n",
      "\"problem copying C:\\Users\\asus\\anaconda3\\envs\\r-tutorial\\Lib\\R\\library\\00LOCK\\utf8\\libs\\x64\\utf8.dll to C:\\Users\\asus\\anaconda3\\envs\\r-tutorial\\Lib\\R\\library\\utf8\\libs\\x64\\utf8.dll: Permission denied\"Warning message:\n",
      "\"restored 'utf8'\""
     ]
    },
    {
     "name": "stdout",
     "output_type": "stream",
     "text": [
      "package 'uuid' successfully unpacked and MD5 sums checked\n"
     ]
    },
    {
     "name": "stderr",
     "output_type": "stream",
     "text": [
      "Warning message:\n",
      "\"cannot remove prior installation of package 'uuid'\"Warning message in file.copy(savedcopy, lib, recursive = TRUE):\n",
      "\"problem copying C:\\Users\\asus\\anaconda3\\envs\\r-tutorial\\Lib\\R\\library\\00LOCK\\uuid\\libs\\x64\\uuid.dll to C:\\Users\\asus\\anaconda3\\envs\\r-tutorial\\Lib\\R\\library\\uuid\\libs\\x64\\uuid.dll: Permission denied\"Warning message:\n",
      "\"restored 'uuid'\""
     ]
    },
    {
     "name": "stdout",
     "output_type": "stream",
     "text": [
      "package 'vcr' successfully unpacked and MD5 sums checked\n",
      "package 'vdiffr' successfully unpacked and MD5 sums checked\n",
      "package 'VGAMextra' successfully unpacked and MD5 sums checked\n",
      "package 'VIM' successfully unpacked and MD5 sums checked\n",
      "package 'weights' successfully unpacked and MD5 sums checked\n",
      "package 'whisker' successfully unpacked and MD5 sums checked\n",
      "package 'wk' successfully unpacked and MD5 sums checked\n",
      "package 'WRS2' successfully unpacked and MD5 sums checked\n",
      "package 'xfun' successfully unpacked and MD5 sums checked\n",
      "package 'xml2' successfully unpacked and MD5 sums checked\n",
      "package 'xts' successfully unpacked and MD5 sums checked\n",
      "package 'yaml' successfully unpacked and MD5 sums checked\n",
      "package 'zoo' successfully unpacked and MD5 sums checked\n",
      "\n",
      "The downloaded binary packages are in\n",
      "\tC:\\Users\\asus\\AppData\\Local\\Temp\\RtmpYBvMoO\\downloaded_packages\n"
     ]
    },
    {
     "name": "stderr",
     "output_type": "stream",
     "text": [
      "installing the source packages 'gargle', 'rio', 'lavaan', 'bayesplot', 'Rdpack', 'DEoptimR', 'spData', 'googledrive', 'car', 'broom', 'broom.mixed', 'DHARMa', 'doBy', 'emmeans', 'formatR', 'ggfortify', 'GLMMadaptive', 'hms', 'LaplacesDemon', 'logger', 'mc2d', 'modeldata', 'pre', 'rmarkdown', 'semTools', 'slackr', 'styler', 'tinytest', 'tinytex'\n",
      "\n",
      "Warning message in install.packages(update[instlib == l, \"Package\"], l, repos = repos, :\n",
      "\"installation of package 'gargle' had non-zero exit status\"Warning message in install.packages(update[instlib == l, \"Package\"], l, repos = repos, :\n",
      "\"installation of package 'rio' had non-zero exit status\"Warning message in install.packages(update[instlib == l, \"Package\"], l, repos = repos, :\n",
      "\"installation of package 'lavaan' had non-zero exit status\"Warning message in install.packages(update[instlib == l, \"Package\"], l, repos = repos, :\n",
      "\"installation of package 'bayesplot' had non-zero exit status\"Warning message in install.packages(update[instlib == l, \"Package\"], l, repos = repos, :\n",
      "\"installation of package 'spData' had non-zero exit status\"Warning message in install.packages(update[instlib == l, \"Package\"], l, repos = repos, :\n",
      "\"installation of package 'broom' had non-zero exit status\""
     ]
    }
   ],
   "source": [
    "# DON'T DO IT!!! COMPUTER CRASHED!!!\n",
    "update.packages(ask=FALSE)"
   ]
  },
  {
   "cell_type": "code",
   "execution_count": 7,
   "id": "e24389dd",
   "metadata": {},
   "outputs": [
    {
     "name": "stdout",
     "output_type": "stream",
     "text": [
      "\n",
      "  There is a binary version available but the source version is later:\n",
      "      binary source needs_compilation\n",
      "caret 6.0-86 6.0-88              TRUE\n",
      "\n",
      "  Binaries will be installed\n",
      "package 'caret' successfully unpacked and MD5 sums checked\n",
      "\n",
      "The downloaded binary packages are in\n",
      "\tC:\\Users\\asus\\AppData\\Local\\Temp\\RtmpkJUepj\\downloaded_packages\n",
      "\n",
      "  There is a binary version available but the source version is later:\n",
      "        binary source needs_compilation\n",
      "ggplot2  3.3.3  3.3.5             FALSE\n",
      "\n"
     ]
    },
    {
     "name": "stderr",
     "output_type": "stream",
     "text": [
      "installing the source package 'ggplot2'\n",
      "\n",
      "\n"
     ]
    },
    {
     "name": "stdout",
     "output_type": "stream",
     "text": [
      "package 'lattice' successfully unpacked and MD5 sums checked\n",
      "\n",
      "The downloaded binary packages are in\n",
      "\tC:\\Users\\asus\\AppData\\Local\\Temp\\RtmpkJUepj\\downloaded_packages\n",
      "package 'lava' successfully unpacked and MD5 sums checked\n",
      "\n",
      "The downloaded binary packages are in\n",
      "\tC:\\Users\\asus\\AppData\\Local\\Temp\\RtmpkJUepj\\downloaded_packages\n"
     ]
    },
    {
     "name": "stderr",
     "output_type": "stream",
     "text": [
      "Warning message:\n",
      "\"package 'purrr' is in use and will not be installed\"\n",
      "Warning message:\n",
      "\"package 'lattice' was built under R version 3.6.3\"\n",
      "Warning message:\n",
      "\"package 'lava' was built under R version 3.6.3\"\n",
      "\n",
      "Attaching package: 'lava'\n",
      "\n",
      "\n",
      "The following object is masked from 'package:ggplot2':\n",
      "\n",
      "    vars\n",
      "\n",
      "\n",
      "The following object is masked from 'package:dplyr':\n",
      "\n",
      "    vars\n",
      "\n",
      "\n",
      "Warning message:\n",
      "\"package 'caret' was built under R version 3.6.3\"\n",
      "\n",
      "Attaching package: 'caret'\n",
      "\n",
      "\n",
      "The following object is masked from 'package:purrr':\n",
      "\n",
      "    lift\n",
      "\n",
      "\n"
     ]
    },
    {
     "ename": "ERROR",
     "evalue": "Error in is.factor(reference): argument \"reference\" is missing, with no default\n",
     "output_type": "error",
     "traceback": [
      "Error in is.factor(reference): argument \"reference\" is missing, with no default\nTraceback:\n",
      "1. sensitivity(table)",
      "2. sensitivity.default(table)",
      "3. is.factor(reference)"
     ]
    }
   ],
   "source": [
    "# Q4\n",
    "# What is the sensitivity of this prediction? You can use the sensitivity() function from the caret package.\n",
    "\n",
    "install.packages(\"caret\",dep = TRUE)\n",
    "install.packages(\"ggplot2\")\n",
    "install.packages(\"lattice\")\n",
    "install.packages(\"lava\")\n",
    "install.packages(\"purrr\")\n",
    "\n",
    "library(ggplot2)\n",
    "library(lattice)\n",
    "library(lava)\n",
    "library(purrr)\n",
    "library(caret)\n"
   ]
  },
  {
   "cell_type": "code",
   "execution_count": 8,
   "id": "c755f27e",
   "metadata": {},
   "outputs": [
    {
     "data": {
      "text/html": [
       "0.382352941176471"
      ],
      "text/latex": [
       "0.382352941176471"
      ],
      "text/markdown": [
       "0.382352941176471"
      ],
      "text/plain": [
       "[1] 0.3823529"
      ]
     },
     "metadata": {},
     "output_type": "display_data"
    }
   ],
   "source": [
    "# Q4\n",
    "sensitivity(y_hat, y)"
   ]
  },
  {
   "cell_type": "code",
   "execution_count": 9,
   "id": "76a6454e",
   "metadata": {},
   "outputs": [
    {
     "data": {
      "text/html": [
       "0.841463414634146"
      ],
      "text/latex": [
       "0.841463414634146"
      ],
      "text/markdown": [
       "0.841463414634146"
      ],
      "text/plain": [
       "[1] 0.8414634"
      ]
     },
     "metadata": {},
     "output_type": "display_data"
    }
   ],
   "source": [
    "# Q5 \n",
    "# What is the specificity of this prediction? You can use the specificity() function from the caret package.\n",
    "\n",
    "specificity(y_hat, y)"
   ]
  },
  {
   "cell_type": "code",
   "execution_count": 10,
   "id": "95782563",
   "metadata": {},
   "outputs": [
    {
     "data": {
      "text/html": [
       "0.453333333333333"
      ],
      "text/latex": [
       "0.453333333333333"
      ],
      "text/markdown": [
       "0.453333333333333"
      ],
      "text/plain": [
       "[1] 0.4533333"
      ]
     },
     "metadata": {},
     "output_type": "display_data"
    }
   ],
   "source": [
    "# Q6\n",
    "# What is the prevalence (% of females) in the dat dataset defined above? \n",
    "\n",
    "prev <- mean(y == \"Female\")\n",
    "prev"
   ]
  },
  {
   "cell_type": "code",
   "execution_count": null,
   "id": "c82de695",
   "metadata": {},
   "outputs": [],
   "source": []
  }
 ],
 "metadata": {
  "kernelspec": {
   "display_name": "R",
   "language": "R",
   "name": "ir"
  },
  "language_info": {
   "codemirror_mode": "r",
   "file_extension": ".r",
   "mimetype": "text/x-r-source",
   "name": "R",
   "pygments_lexer": "r",
   "version": "3.6.1"
  }
 },
 "nbformat": 4,
 "nbformat_minor": 5
}
